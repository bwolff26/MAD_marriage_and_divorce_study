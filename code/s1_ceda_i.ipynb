{
 "cells": [
  {
   "cell_type": "markdown",
   "id": "afb0c9c0",
   "metadata": {},
   "source": [
    "Now, let's finally look at that divorced dataset."
   ]
  },
  {
   "cell_type": "code",
   "execution_count": 2,
   "id": "e994a9b9",
   "metadata": {},
   "outputs": [],
   "source": [
    "import pandas as pd\n",
    "import numpy as np\n",
    "import matplotlib.pyplot as plt\n",
    "import seaborn as sns"
   ]
  },
  {
   "cell_type": "code",
   "execution_count": 8,
   "id": "8d141626",
   "metadata": {},
   "outputs": [
    {
     "name": "stdout",
     "output_type": "stream",
     "text": [
      "(4923, 41)\n"
     ]
    },
    {
     "data": {
      "text/html": [
       "<div>\n",
       "<style scoped>\n",
       "    .dataframe tbody tr th:only-of-type {\n",
       "        vertical-align: middle;\n",
       "    }\n",
       "\n",
       "    .dataframe tbody tr th {\n",
       "        vertical-align: top;\n",
       "    }\n",
       "\n",
       "    .dataframe thead th {\n",
       "        text-align: right;\n",
       "    }\n",
       "</style>\n",
       "<table border=\"1\" class=\"dataframe\">\n",
       "  <thead>\n",
       "    <tr style=\"text-align: right;\">\n",
       "      <th></th>\n",
       "      <th>divorce_date</th>\n",
       "      <th>type_of_divorce</th>\n",
       "      <th>nationality_partner_man</th>\n",
       "      <th>dob_partner_man</th>\n",
       "      <th>place_of_birth_partner_man</th>\n",
       "      <th>birth_municipality_of_partner_man</th>\n",
       "      <th>birth_federal_partner_man</th>\n",
       "      <th>birth_country_partner_man</th>\n",
       "      <th>age_partner_man</th>\n",
       "      <th>residence_municipality_partner_man</th>\n",
       "      <th>...</th>\n",
       "      <th>marriage_certificate_municipality</th>\n",
       "      <th>marriage_certificate_federal</th>\n",
       "      <th>level_of_education_partner_man</th>\n",
       "      <th>employment_status_partner_man</th>\n",
       "      <th>level_of_education_partner_woman</th>\n",
       "      <th>employment_status_partner_woman</th>\n",
       "      <th>marriage_duration</th>\n",
       "      <th>marriage_duration_months</th>\n",
       "      <th>num_children</th>\n",
       "      <th>custody</th>\n",
       "    </tr>\n",
       "  </thead>\n",
       "  <tbody>\n",
       "    <tr>\n",
       "      <th>0</th>\n",
       "      <td>9/6/06</td>\n",
       "      <td>Necesario</td>\n",
       "      <td>MEXICANA</td>\n",
       "      <td>18/12/75</td>\n",
       "      <td>XALAPA - ENRIQUEZ</td>\n",
       "      <td>XALAPA</td>\n",
       "      <td>VERACRUZ</td>\n",
       "      <td>MEXICO</td>\n",
       "      <td>30.0</td>\n",
       "      <td>XALAPA</td>\n",
       "      <td>...</td>\n",
       "      <td>XALAPA</td>\n",
       "      <td>VERACRUZ</td>\n",
       "      <td>SECUNDARIA</td>\n",
       "      <td>OBRERO</td>\n",
       "      <td>SECUNDARIA</td>\n",
       "      <td>EMPLEADO</td>\n",
       "      <td>5.0</td>\n",
       "      <td>NaN</td>\n",
       "      <td>1.0</td>\n",
       "      <td>NaN</td>\n",
       "    </tr>\n",
       "    <tr>\n",
       "      <th>1</th>\n",
       "      <td>1/2/00</td>\n",
       "      <td>Voluntario</td>\n",
       "      <td>MEXICANA</td>\n",
       "      <td>NaN</td>\n",
       "      <td>NaN</td>\n",
       "      <td>NaN</td>\n",
       "      <td>NaN</td>\n",
       "      <td>NaN</td>\n",
       "      <td>47.0</td>\n",
       "      <td>NaN</td>\n",
       "      <td>...</td>\n",
       "      <td>XALAPA</td>\n",
       "      <td>VERACRUZ</td>\n",
       "      <td>PREPARATORIA</td>\n",
       "      <td>ESTABLECIMIENTO</td>\n",
       "      <td>PREPARATORIA</td>\n",
       "      <td>EMPLEADO</td>\n",
       "      <td>NaN</td>\n",
       "      <td>NaN</td>\n",
       "      <td>NaN</td>\n",
       "      <td>NaN</td>\n",
       "    </tr>\n",
       "    <tr>\n",
       "      <th>2</th>\n",
       "      <td>1/2/05</td>\n",
       "      <td>Necesario</td>\n",
       "      <td>MEXICANA</td>\n",
       "      <td>22/2/55</td>\n",
       "      <td>XALAPA - ENRIQUEZ</td>\n",
       "      <td>XALAPA</td>\n",
       "      <td>VERACRUZ</td>\n",
       "      <td>MEXICO</td>\n",
       "      <td>49.0</td>\n",
       "      <td>NaN</td>\n",
       "      <td>...</td>\n",
       "      <td>XALAPA</td>\n",
       "      <td>VERACRUZ</td>\n",
       "      <td>PREPARATORIA</td>\n",
       "      <td>OBRERO</td>\n",
       "      <td>NaN</td>\n",
       "      <td>TRABAJADOR POR CUENTA PROPIA EN VIA PUBLICA</td>\n",
       "      <td>NaN</td>\n",
       "      <td>NaN</td>\n",
       "      <td>NaN</td>\n",
       "      <td>NaN</td>\n",
       "    </tr>\n",
       "    <tr>\n",
       "      <th>3</th>\n",
       "      <td>1/2/06</td>\n",
       "      <td>Necesario</td>\n",
       "      <td>MEXICANA</td>\n",
       "      <td>20/1/64</td>\n",
       "      <td>XALAPA - ENRIQUEZ</td>\n",
       "      <td>XALAPA</td>\n",
       "      <td>VERACRUZ</td>\n",
       "      <td>MEXICO</td>\n",
       "      <td>42.0</td>\n",
       "      <td>XALAPA</td>\n",
       "      <td>...</td>\n",
       "      <td>XALAPA</td>\n",
       "      <td>VERACRUZ</td>\n",
       "      <td>PROFESIONAL</td>\n",
       "      <td>EMPLEADO</td>\n",
       "      <td>PREPARATORIA</td>\n",
       "      <td>EMPLEADO</td>\n",
       "      <td>18.0</td>\n",
       "      <td>NaN</td>\n",
       "      <td>2.0</td>\n",
       "      <td>MADRE</td>\n",
       "    </tr>\n",
       "    <tr>\n",
       "      <th>4</th>\n",
       "      <td>1/2/06</td>\n",
       "      <td>Necesario</td>\n",
       "      <td>MEXICANA</td>\n",
       "      <td>30/10/75</td>\n",
       "      <td>XALAPA - ENRIQUEZ</td>\n",
       "      <td>XALAPA</td>\n",
       "      <td>VERACRUZ</td>\n",
       "      <td>MEXICO</td>\n",
       "      <td>30.0</td>\n",
       "      <td>COATEPEC</td>\n",
       "      <td>...</td>\n",
       "      <td>XALAPA</td>\n",
       "      <td>VERACRUZ</td>\n",
       "      <td>PROFESIONAL</td>\n",
       "      <td>EMPLEADO</td>\n",
       "      <td>PREPARATORIA</td>\n",
       "      <td>NO TRABAJA</td>\n",
       "      <td>7.0</td>\n",
       "      <td>NaN</td>\n",
       "      <td>2.0</td>\n",
       "      <td>MADRE</td>\n",
       "    </tr>\n",
       "  </tbody>\n",
       "</table>\n",
       "<p>5 rows × 41 columns</p>\n",
       "</div>"
      ],
      "text/plain": [
       "  divorce_date type_of_divorce nationality_partner_man dob_partner_man  \\\n",
       "0       9/6/06       Necesario                MEXICANA        18/12/75   \n",
       "1       1/2/00      Voluntario                MEXICANA             NaN   \n",
       "2       1/2/05       Necesario                MEXICANA         22/2/55   \n",
       "3       1/2/06       Necesario                MEXICANA         20/1/64   \n",
       "4       1/2/06       Necesario                MEXICANA        30/10/75   \n",
       "\n",
       "  place_of_birth_partner_man birth_municipality_of_partner_man  \\\n",
       "0          XALAPA - ENRIQUEZ                            XALAPA   \n",
       "1                        NaN                               NaN   \n",
       "2          XALAPA - ENRIQUEZ                            XALAPA   \n",
       "3          XALAPA - ENRIQUEZ                            XALAPA   \n",
       "4          XALAPA - ENRIQUEZ                            XALAPA   \n",
       "\n",
       "  birth_federal_partner_man birth_country_partner_man  age_partner_man  \\\n",
       "0                  VERACRUZ                    MEXICO             30.0   \n",
       "1                       NaN                       NaN             47.0   \n",
       "2                  VERACRUZ                    MEXICO             49.0   \n",
       "3                  VERACRUZ                    MEXICO             42.0   \n",
       "4                  VERACRUZ                    MEXICO             30.0   \n",
       "\n",
       "  residence_municipality_partner_man  ... marriage_certificate_municipality  \\\n",
       "0                             XALAPA  ...                            XALAPA   \n",
       "1                                NaN  ...                            XALAPA   \n",
       "2                                NaN  ...                            XALAPA   \n",
       "3                             XALAPA  ...                            XALAPA   \n",
       "4                           COATEPEC  ...                            XALAPA   \n",
       "\n",
       "  marriage_certificate_federal  level_of_education_partner_man  \\\n",
       "0                     VERACRUZ                      SECUNDARIA   \n",
       "1                     VERACRUZ                    PREPARATORIA   \n",
       "2                     VERACRUZ                    PREPARATORIA   \n",
       "3                     VERACRUZ                     PROFESIONAL   \n",
       "4                     VERACRUZ                     PROFESIONAL   \n",
       "\n",
       "  employment_status_partner_man level_of_education_partner_woman  \\\n",
       "0                        OBRERO                       SECUNDARIA   \n",
       "1               ESTABLECIMIENTO                     PREPARATORIA   \n",
       "2                        OBRERO                              NaN   \n",
       "3                      EMPLEADO                     PREPARATORIA   \n",
       "4                      EMPLEADO                     PREPARATORIA   \n",
       "\n",
       "                employment_status_partner_woman marriage_duration  \\\n",
       "0                                      EMPLEADO               5.0   \n",
       "1                                      EMPLEADO               NaN   \n",
       "2  TRABAJADOR POR CUENTA PROPIA EN VIA PUBLICA                NaN   \n",
       "3                                      EMPLEADO              18.0   \n",
       "4                                    NO TRABAJA               7.0   \n",
       "\n",
       "  marriage_duration_months num_children custody  \n",
       "0                      NaN          1.0     NaN  \n",
       "1                      NaN          NaN     NaN  \n",
       "2                      NaN          NaN     NaN  \n",
       "3                      NaN          2.0   MADRE  \n",
       "4                      NaN          2.0   MADRE  \n",
       "\n",
       "[5 rows x 41 columns]"
      ]
     },
     "execution_count": 8,
     "metadata": {},
     "output_type": "execute_result"
    }
   ],
   "source": [
    "df = pd.read_csv('../data/divorces_2000-2015_translated.csv')\n",
    "print(df.shape)\n",
    "df.columns = df.columns.str.lower()\n",
    "df.columns = df.columns.str.replace(' ', '_')\n",
    "df.columns = df.columns.str.replace('.', '')\n",
    "df.head()"
   ]
  },
  {
   "cell_type": "markdown",
   "id": "5ef0bafb",
   "metadata": {},
   "source": [
    "Yeah, once again we need to do a lot of sprucing. We'll definitely err on the side of making things as simple as possible."
   ]
  },
  {
   "cell_type": "code",
   "execution_count": 5,
   "id": "66db23fb",
   "metadata": {},
   "outputs": [],
   "source": [
    " i = 0"
   ]
  },
  {
   "cell_type": "code",
   "execution_count": 9,
   "id": "2b3d1069",
   "metadata": {},
   "outputs": [
    {
     "data": {
      "text/plain": [
       "divorce_date\n",
       "9/10/09     9\n",
       "5/9/05      8\n",
       "25/2/09     8\n",
       "21/11/03    8\n",
       "3/11/04     8\n",
       "           ..\n",
       "8/10/13     1\n",
       "8/10/14     1\n",
       "8/11/01     1\n",
       "8/11/06     1\n",
       "31/12/13    1\n",
       "Name: count, Length: 2596, dtype: int64"
      ]
     },
     "execution_count": 9,
     "metadata": {},
     "output_type": "execute_result"
    }
   ],
   "source": [
    "df[df.columns[i]].value_counts() #Yeah, we don't care about this... way too detailed for our purposes. Do note though\n",
    "#the range of them"
   ]
  },
  {
   "cell_type": "code",
   "execution_count": 10,
   "id": "6397025d",
   "metadata": {},
   "outputs": [
    {
     "data": {
      "text/plain": [
       "('1/10/01', '9/9/14')"
      ]
     },
     "execution_count": 10,
     "metadata": {},
     "output_type": "execute_result"
    }
   ],
   "source": [
    "min(df['divorce_date']), max(df['divorce_date'])"
   ]
  },
  {
   "cell_type": "code",
   "execution_count": null,
   "id": "96de40ae",
   "metadata": {},
   "outputs": [],
   "source": [
    "df.drop(df.column[])"
   ]
  },
  {
   "cell_type": "code",
   "execution_count": null,
   "id": "cc12d904",
   "metadata": {},
   "outputs": [],
   "source": []
  },
  {
   "cell_type": "code",
   "execution_count": null,
   "id": "9cf672d3",
   "metadata": {},
   "outputs": [],
   "source": []
  },
  {
   "cell_type": "code",
   "execution_count": null,
   "id": "29a7b6d3",
   "metadata": {},
   "outputs": [],
   "source": []
  },
  {
   "cell_type": "code",
   "execution_count": null,
   "id": "14951d1b",
   "metadata": {},
   "outputs": [],
   "source": []
  },
  {
   "cell_type": "code",
   "execution_count": null,
   "id": "27a51c17",
   "metadata": {},
   "outputs": [],
   "source": []
  }
 ],
 "metadata": {
  "kernelspec": {
   "display_name": "Python 3 (ipykernel)",
   "language": "python",
   "name": "python3"
  },
  "language_info": {
   "codemirror_mode": {
    "name": "ipython",
    "version": 3
   },
   "file_extension": ".py",
   "mimetype": "text/x-python",
   "name": "python",
   "nbconvert_exporter": "python",
   "pygments_lexer": "ipython3",
   "version": "3.11.5"
  }
 },
 "nbformat": 4,
 "nbformat_minor": 5
}
