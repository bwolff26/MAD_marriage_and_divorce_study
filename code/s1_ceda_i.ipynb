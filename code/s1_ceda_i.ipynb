{
 "cells": [
  {
   "cell_type": "markdown",
   "id": "afb0c9c0",
   "metadata": {},
   "source": [
    "Now, let's finally look at that divorced dataset."
   ]
  },
  {
   "cell_type": "code",
   "execution_count": 1,
   "id": "e994a9b9",
   "metadata": {},
   "outputs": [],
   "source": [
    "import pandas as pd\n",
    "import numpy as np\n",
    "import matplotlib.pyplot as plt\n",
    "import seaborn as sns"
   ]
  },
  {
   "cell_type": "code",
   "execution_count": 2,
   "id": "8d141626",
   "metadata": {},
   "outputs": [
    {
     "name": "stdout",
     "output_type": "stream",
     "text": [
      "(4923, 41)\n"
     ]
    },
    {
     "data": {
      "text/html": [
       "<div>\n",
       "<style scoped>\n",
       "    .dataframe tbody tr th:only-of-type {\n",
       "        vertical-align: middle;\n",
       "    }\n",
       "\n",
       "    .dataframe tbody tr th {\n",
       "        vertical-align: top;\n",
       "    }\n",
       "\n",
       "    .dataframe thead th {\n",
       "        text-align: right;\n",
       "    }\n",
       "</style>\n",
       "<table border=\"1\" class=\"dataframe\">\n",
       "  <thead>\n",
       "    <tr style=\"text-align: right;\">\n",
       "      <th></th>\n",
       "      <th>divorce_date</th>\n",
       "      <th>type_of_divorce</th>\n",
       "      <th>nationality_partner_man</th>\n",
       "      <th>dob_partner_man</th>\n",
       "      <th>place_of_birth_partner_man</th>\n",
       "      <th>birth_municipality_of_partner_man</th>\n",
       "      <th>birth_federal_partner_man</th>\n",
       "      <th>birth_country_partner_man</th>\n",
       "      <th>age_partner_man</th>\n",
       "      <th>residence_municipality_partner_man</th>\n",
       "      <th>...</th>\n",
       "      <th>marriage_certificate_municipality</th>\n",
       "      <th>marriage_certificate_federal</th>\n",
       "      <th>level_of_education_partner_man</th>\n",
       "      <th>employment_status_partner_man</th>\n",
       "      <th>level_of_education_partner_woman</th>\n",
       "      <th>employment_status_partner_woman</th>\n",
       "      <th>marriage_duration</th>\n",
       "      <th>marriage_duration_months</th>\n",
       "      <th>num_children</th>\n",
       "      <th>custody</th>\n",
       "    </tr>\n",
       "  </thead>\n",
       "  <tbody>\n",
       "    <tr>\n",
       "      <th>0</th>\n",
       "      <td>9/6/06</td>\n",
       "      <td>Necesario</td>\n",
       "      <td>MEXICANA</td>\n",
       "      <td>18/12/75</td>\n",
       "      <td>XALAPA - ENRIQUEZ</td>\n",
       "      <td>XALAPA</td>\n",
       "      <td>VERACRUZ</td>\n",
       "      <td>MEXICO</td>\n",
       "      <td>30.0</td>\n",
       "      <td>XALAPA</td>\n",
       "      <td>...</td>\n",
       "      <td>XALAPA</td>\n",
       "      <td>VERACRUZ</td>\n",
       "      <td>SECUNDARIA</td>\n",
       "      <td>OBRERO</td>\n",
       "      <td>SECUNDARIA</td>\n",
       "      <td>EMPLEADO</td>\n",
       "      <td>5.0</td>\n",
       "      <td>NaN</td>\n",
       "      <td>1.0</td>\n",
       "      <td>NaN</td>\n",
       "    </tr>\n",
       "    <tr>\n",
       "      <th>1</th>\n",
       "      <td>1/2/00</td>\n",
       "      <td>Voluntario</td>\n",
       "      <td>MEXICANA</td>\n",
       "      <td>NaN</td>\n",
       "      <td>NaN</td>\n",
       "      <td>NaN</td>\n",
       "      <td>NaN</td>\n",
       "      <td>NaN</td>\n",
       "      <td>47.0</td>\n",
       "      <td>NaN</td>\n",
       "      <td>...</td>\n",
       "      <td>XALAPA</td>\n",
       "      <td>VERACRUZ</td>\n",
       "      <td>PREPARATORIA</td>\n",
       "      <td>ESTABLECIMIENTO</td>\n",
       "      <td>PREPARATORIA</td>\n",
       "      <td>EMPLEADO</td>\n",
       "      <td>NaN</td>\n",
       "      <td>NaN</td>\n",
       "      <td>NaN</td>\n",
       "      <td>NaN</td>\n",
       "    </tr>\n",
       "    <tr>\n",
       "      <th>2</th>\n",
       "      <td>1/2/05</td>\n",
       "      <td>Necesario</td>\n",
       "      <td>MEXICANA</td>\n",
       "      <td>22/2/55</td>\n",
       "      <td>XALAPA - ENRIQUEZ</td>\n",
       "      <td>XALAPA</td>\n",
       "      <td>VERACRUZ</td>\n",
       "      <td>MEXICO</td>\n",
       "      <td>49.0</td>\n",
       "      <td>NaN</td>\n",
       "      <td>...</td>\n",
       "      <td>XALAPA</td>\n",
       "      <td>VERACRUZ</td>\n",
       "      <td>PREPARATORIA</td>\n",
       "      <td>OBRERO</td>\n",
       "      <td>NaN</td>\n",
       "      <td>TRABAJADOR POR CUENTA PROPIA EN VIA PUBLICA</td>\n",
       "      <td>NaN</td>\n",
       "      <td>NaN</td>\n",
       "      <td>NaN</td>\n",
       "      <td>NaN</td>\n",
       "    </tr>\n",
       "    <tr>\n",
       "      <th>3</th>\n",
       "      <td>1/2/06</td>\n",
       "      <td>Necesario</td>\n",
       "      <td>MEXICANA</td>\n",
       "      <td>20/1/64</td>\n",
       "      <td>XALAPA - ENRIQUEZ</td>\n",
       "      <td>XALAPA</td>\n",
       "      <td>VERACRUZ</td>\n",
       "      <td>MEXICO</td>\n",
       "      <td>42.0</td>\n",
       "      <td>XALAPA</td>\n",
       "      <td>...</td>\n",
       "      <td>XALAPA</td>\n",
       "      <td>VERACRUZ</td>\n",
       "      <td>PROFESIONAL</td>\n",
       "      <td>EMPLEADO</td>\n",
       "      <td>PREPARATORIA</td>\n",
       "      <td>EMPLEADO</td>\n",
       "      <td>18.0</td>\n",
       "      <td>NaN</td>\n",
       "      <td>2.0</td>\n",
       "      <td>MADRE</td>\n",
       "    </tr>\n",
       "    <tr>\n",
       "      <th>4</th>\n",
       "      <td>1/2/06</td>\n",
       "      <td>Necesario</td>\n",
       "      <td>MEXICANA</td>\n",
       "      <td>30/10/75</td>\n",
       "      <td>XALAPA - ENRIQUEZ</td>\n",
       "      <td>XALAPA</td>\n",
       "      <td>VERACRUZ</td>\n",
       "      <td>MEXICO</td>\n",
       "      <td>30.0</td>\n",
       "      <td>COATEPEC</td>\n",
       "      <td>...</td>\n",
       "      <td>XALAPA</td>\n",
       "      <td>VERACRUZ</td>\n",
       "      <td>PROFESIONAL</td>\n",
       "      <td>EMPLEADO</td>\n",
       "      <td>PREPARATORIA</td>\n",
       "      <td>NO TRABAJA</td>\n",
       "      <td>7.0</td>\n",
       "      <td>NaN</td>\n",
       "      <td>2.0</td>\n",
       "      <td>MADRE</td>\n",
       "    </tr>\n",
       "  </tbody>\n",
       "</table>\n",
       "<p>5 rows × 41 columns</p>\n",
       "</div>"
      ],
      "text/plain": [
       "  divorce_date type_of_divorce nationality_partner_man dob_partner_man  \\\n",
       "0       9/6/06       Necesario                MEXICANA        18/12/75   \n",
       "1       1/2/00      Voluntario                MEXICANA             NaN   \n",
       "2       1/2/05       Necesario                MEXICANA         22/2/55   \n",
       "3       1/2/06       Necesario                MEXICANA         20/1/64   \n",
       "4       1/2/06       Necesario                MEXICANA        30/10/75   \n",
       "\n",
       "  place_of_birth_partner_man birth_municipality_of_partner_man  \\\n",
       "0          XALAPA - ENRIQUEZ                            XALAPA   \n",
       "1                        NaN                               NaN   \n",
       "2          XALAPA - ENRIQUEZ                            XALAPA   \n",
       "3          XALAPA - ENRIQUEZ                            XALAPA   \n",
       "4          XALAPA - ENRIQUEZ                            XALAPA   \n",
       "\n",
       "  birth_federal_partner_man birth_country_partner_man  age_partner_man  \\\n",
       "0                  VERACRUZ                    MEXICO             30.0   \n",
       "1                       NaN                       NaN             47.0   \n",
       "2                  VERACRUZ                    MEXICO             49.0   \n",
       "3                  VERACRUZ                    MEXICO             42.0   \n",
       "4                  VERACRUZ                    MEXICO             30.0   \n",
       "\n",
       "  residence_municipality_partner_man  ... marriage_certificate_municipality  \\\n",
       "0                             XALAPA  ...                            XALAPA   \n",
       "1                                NaN  ...                            XALAPA   \n",
       "2                                NaN  ...                            XALAPA   \n",
       "3                             XALAPA  ...                            XALAPA   \n",
       "4                           COATEPEC  ...                            XALAPA   \n",
       "\n",
       "  marriage_certificate_federal  level_of_education_partner_man  \\\n",
       "0                     VERACRUZ                      SECUNDARIA   \n",
       "1                     VERACRUZ                    PREPARATORIA   \n",
       "2                     VERACRUZ                    PREPARATORIA   \n",
       "3                     VERACRUZ                     PROFESIONAL   \n",
       "4                     VERACRUZ                     PROFESIONAL   \n",
       "\n",
       "  employment_status_partner_man level_of_education_partner_woman  \\\n",
       "0                        OBRERO                       SECUNDARIA   \n",
       "1               ESTABLECIMIENTO                     PREPARATORIA   \n",
       "2                        OBRERO                              NaN   \n",
       "3                      EMPLEADO                     PREPARATORIA   \n",
       "4                      EMPLEADO                     PREPARATORIA   \n",
       "\n",
       "                employment_status_partner_woman marriage_duration  \\\n",
       "0                                      EMPLEADO               5.0   \n",
       "1                                      EMPLEADO               NaN   \n",
       "2  TRABAJADOR POR CUENTA PROPIA EN VIA PUBLICA                NaN   \n",
       "3                                      EMPLEADO              18.0   \n",
       "4                                    NO TRABAJA               7.0   \n",
       "\n",
       "  marriage_duration_months num_children custody  \n",
       "0                      NaN          1.0     NaN  \n",
       "1                      NaN          NaN     NaN  \n",
       "2                      NaN          NaN     NaN  \n",
       "3                      NaN          2.0   MADRE  \n",
       "4                      NaN          2.0   MADRE  \n",
       "\n",
       "[5 rows x 41 columns]"
      ]
     },
     "execution_count": 2,
     "metadata": {},
     "output_type": "execute_result"
    }
   ],
   "source": [
    "df = pd.read_csv('../data/divorces_2000-2015_translated.csv')\n",
    "print(df.shape)\n",
    "df.columns = df.columns.str.lower()\n",
    "df.columns = df.columns.str.replace(' ', '_')\n",
    "df.columns = df.columns.str.replace('.', '')\n",
    "df.head()"
   ]
  },
  {
   "cell_type": "markdown",
   "id": "5ef0bafb",
   "metadata": {},
   "source": [
    "Yeah, once again we need to do a lot of sprucing. We'll definitely err on the side of making things as simple as possible."
   ]
  },
  {
   "cell_type": "code",
   "execution_count": 45,
   "id": "d3c848ee",
   "metadata": {},
   "outputs": [
    {
     "data": {
      "text/plain": [
       "marriage_duration_months                3368\n",
       "custody                                 2851\n",
       "dob_registration_date_partner_woman     2679\n",
       "monthly_income_partner_woman_peso       2119\n",
       "num_children                            1912\n",
       "monthly_income_partner_man_peso         1419\n",
       "occupation_partner_woman                 578\n",
       "dob_partner_woman                        452\n",
       "employment_status_partner_woman          417\n",
       "dob_partner_man                          381\n",
       "level_of_education_partner_woman         380\n",
       "employment_status_partner_man            356\n",
       "residence_country_partner_man            324\n",
       "residence_municipality_partner_woman     307\n",
       "place_of_residence_partner_woman         307\n",
       "dtype: int64"
      ]
     },
     "execution_count": 45,
     "metadata": {},
     "output_type": "execute_result"
    }
   ],
   "source": [
    "df.isna().sum().sort_values(ascending=False)[:15]"
   ]
  },
  {
   "cell_type": "markdown",
   "id": "7c289ebe",
   "metadata": {},
   "source": [
    "Oh my, that's quite a lot of nulls. But, let us deal with each feature as we get around to it. Especially when our target is either the duration or the type..."
   ]
  },
  {
   "cell_type": "code",
   "execution_count": 3,
   "id": "66db23fb",
   "metadata": {},
   "outputs": [],
   "source": [
    " i = 0"
   ]
  },
  {
   "cell_type": "code",
   "execution_count": 4,
   "id": "2b3d1069",
   "metadata": {},
   "outputs": [
    {
     "data": {
      "text/plain": [
       "divorce_date\n",
       "9/10/09     9\n",
       "5/9/05      8\n",
       "25/2/09     8\n",
       "21/11/03    8\n",
       "3/11/04     8\n",
       "           ..\n",
       "8/10/13     1\n",
       "8/10/14     1\n",
       "8/11/01     1\n",
       "8/11/06     1\n",
       "31/12/13    1\n",
       "Name: count, Length: 2596, dtype: int64"
      ]
     },
     "execution_count": 4,
     "metadata": {},
     "output_type": "execute_result"
    }
   ],
   "source": [
    "df[df.columns[i]].value_counts() #Yeah, we don't care about this... way too detailed for our purposes. Do note though\n",
    "#the range of them"
   ]
  },
  {
   "cell_type": "code",
   "execution_count": 5,
   "id": "6397025d",
   "metadata": {},
   "outputs": [
    {
     "data": {
      "text/plain": [
       "('1/10/01', '9/9/14')"
      ]
     },
     "execution_count": 5,
     "metadata": {},
     "output_type": "execute_result"
    }
   ],
   "source": [
    "min(df['divorce_date']), max(df['divorce_date'])"
   ]
  },
  {
   "cell_type": "code",
   "execution_count": 6,
   "id": "96de40ae",
   "metadata": {},
   "outputs": [
    {
     "name": "stdout",
     "output_type": "stream",
     "text": [
      "Next up to be deleted is divorce_date and now we're poised to delete a total of 1 from our dataframe.\n"
     ]
    }
   ],
   "source": [
    "to_be_deleted = []\n",
    "\n",
    "to_be_deleted.append(df.columns[i])\n",
    "print(f\"Next up to be deleted is {df.columns[i]} and now we're poised to delete a total of {len(to_be_deleted)} from our dataframe.\")"
   ]
  },
  {
   "cell_type": "code",
   "execution_count": 7,
   "id": "cc12d904",
   "metadata": {},
   "outputs": [
    {
     "data": {
      "text/plain": [
       "type_of_divorce\n",
       "Necesario     2528\n",
       "Voluntario    2395\n",
       "Name: count, dtype: int64"
      ]
     },
     "execution_count": 7,
     "metadata": {},
     "output_type": "execute_result"
    }
   ],
   "source": [
    "i += 1\n",
    "df[df.columns[i]].value_counts()"
   ]
  },
  {
   "cell_type": "markdown",
   "id": "02ee7c23",
   "metadata": {},
   "source": [
    "Guess we'll worry about one-hot-encodng later.\n",
    "\n",
    "Pragmatically, I'd assume Necesario should be 0. Ie the type of scenario we'd ideally like to avoid, but relatively 'better' than the alternative (in short...)."
   ]
  },
  {
   "cell_type": "code",
   "execution_count": 8,
   "id": "29a7b6d3",
   "metadata": {},
   "outputs": [
    {
     "data": {
      "text/plain": [
       "nationality_partner_man\n",
       "MEXICANA          4879\n",
       "CUBANA               8\n",
       "ESTADOUNIDENSE       7\n",
       "ESPA√ëOLA            6\n",
       "ARGENTINA            4\n",
       "FRANCESA             2\n",
       "CANADIENSE           2\n",
       "ALEMANA              2\n",
       "VENEZOLANA           2\n",
       "JAPONESA             1\n",
       "AUSTRALIANA          1\n",
       "POLACA               1\n",
       "CHINA                1\n",
       "ITALIANA             1\n",
       "CHILENA              1\n",
       "COSTARRICENSE        1\n",
       "AUSTRIACA            1\n",
       "COLOMBIANA           1\n",
       "NICARAGUENSE         1\n",
       "Name: count, dtype: int64"
      ]
     },
     "execution_count": 8,
     "metadata": {},
     "output_type": "execute_result"
    }
   ],
   "source": [
    "i += 1\n",
    "df[df.columns[i]].value_counts()"
   ]
  },
  {
   "cell_type": "markdown",
   "id": "0d924275",
   "metadata": {},
   "source": [
    "Yeah, we'll simplify this to mexican/not. Although we'd be interested to see a mexican of any type with a non, we're also interested in a case where neither are mexican yet are still living there (if it occurs in this dataset)."
   ]
  },
  {
   "cell_type": "code",
   "execution_count": 9,
   "id": "ff312574",
   "metadata": {},
   "outputs": [],
   "source": [
    "df[df.columns[i]] = df[df.columns[i]].apply(lambda x: 0 if x == 'MEXICANA' else 1)"
   ]
  },
  {
   "cell_type": "code",
   "execution_count": 10,
   "id": "83fd0841",
   "metadata": {},
   "outputs": [
    {
     "data": {
      "text/html": [
       "<div>\n",
       "<style scoped>\n",
       "    .dataframe tbody tr th:only-of-type {\n",
       "        vertical-align: middle;\n",
       "    }\n",
       "\n",
       "    .dataframe tbody tr th {\n",
       "        vertical-align: top;\n",
       "    }\n",
       "\n",
       "    .dataframe thead th {\n",
       "        text-align: right;\n",
       "    }\n",
       "</style>\n",
       "<table border=\"1\" class=\"dataframe\">\n",
       "  <thead>\n",
       "    <tr style=\"text-align: right;\">\n",
       "      <th></th>\n",
       "      <th>divorce_date</th>\n",
       "      <th>type_of_divorce</th>\n",
       "      <th>nationality_partner_man</th>\n",
       "      <th>dob_partner_man</th>\n",
       "      <th>place_of_birth_partner_man</th>\n",
       "      <th>birth_municipality_of_partner_man</th>\n",
       "      <th>birth_federal_partner_man</th>\n",
       "      <th>birth_country_partner_man</th>\n",
       "      <th>age_partner_man</th>\n",
       "      <th>residence_municipality_partner_man</th>\n",
       "      <th>...</th>\n",
       "      <th>marriage_certificate_municipality</th>\n",
       "      <th>marriage_certificate_federal</th>\n",
       "      <th>level_of_education_partner_man</th>\n",
       "      <th>employment_status_partner_man</th>\n",
       "      <th>level_of_education_partner_woman</th>\n",
       "      <th>employment_status_partner_woman</th>\n",
       "      <th>marriage_duration</th>\n",
       "      <th>marriage_duration_months</th>\n",
       "      <th>num_children</th>\n",
       "      <th>custody</th>\n",
       "    </tr>\n",
       "  </thead>\n",
       "  <tbody>\n",
       "    <tr>\n",
       "      <th>0</th>\n",
       "      <td>9/6/06</td>\n",
       "      <td>Necesario</td>\n",
       "      <td>0</td>\n",
       "      <td>18/12/75</td>\n",
       "      <td>XALAPA - ENRIQUEZ</td>\n",
       "      <td>XALAPA</td>\n",
       "      <td>VERACRUZ</td>\n",
       "      <td>MEXICO</td>\n",
       "      <td>30.0</td>\n",
       "      <td>XALAPA</td>\n",
       "      <td>...</td>\n",
       "      <td>XALAPA</td>\n",
       "      <td>VERACRUZ</td>\n",
       "      <td>SECUNDARIA</td>\n",
       "      <td>OBRERO</td>\n",
       "      <td>SECUNDARIA</td>\n",
       "      <td>EMPLEADO</td>\n",
       "      <td>5.0</td>\n",
       "      <td>NaN</td>\n",
       "      <td>1.0</td>\n",
       "      <td>NaN</td>\n",
       "    </tr>\n",
       "    <tr>\n",
       "      <th>1</th>\n",
       "      <td>1/2/00</td>\n",
       "      <td>Voluntario</td>\n",
       "      <td>0</td>\n",
       "      <td>NaN</td>\n",
       "      <td>NaN</td>\n",
       "      <td>NaN</td>\n",
       "      <td>NaN</td>\n",
       "      <td>NaN</td>\n",
       "      <td>47.0</td>\n",
       "      <td>NaN</td>\n",
       "      <td>...</td>\n",
       "      <td>XALAPA</td>\n",
       "      <td>VERACRUZ</td>\n",
       "      <td>PREPARATORIA</td>\n",
       "      <td>ESTABLECIMIENTO</td>\n",
       "      <td>PREPARATORIA</td>\n",
       "      <td>EMPLEADO</td>\n",
       "      <td>NaN</td>\n",
       "      <td>NaN</td>\n",
       "      <td>NaN</td>\n",
       "      <td>NaN</td>\n",
       "    </tr>\n",
       "    <tr>\n",
       "      <th>2</th>\n",
       "      <td>1/2/05</td>\n",
       "      <td>Necesario</td>\n",
       "      <td>0</td>\n",
       "      <td>22/2/55</td>\n",
       "      <td>XALAPA - ENRIQUEZ</td>\n",
       "      <td>XALAPA</td>\n",
       "      <td>VERACRUZ</td>\n",
       "      <td>MEXICO</td>\n",
       "      <td>49.0</td>\n",
       "      <td>NaN</td>\n",
       "      <td>...</td>\n",
       "      <td>XALAPA</td>\n",
       "      <td>VERACRUZ</td>\n",
       "      <td>PREPARATORIA</td>\n",
       "      <td>OBRERO</td>\n",
       "      <td>NaN</td>\n",
       "      <td>TRABAJADOR POR CUENTA PROPIA EN VIA PUBLICA</td>\n",
       "      <td>NaN</td>\n",
       "      <td>NaN</td>\n",
       "      <td>NaN</td>\n",
       "      <td>NaN</td>\n",
       "    </tr>\n",
       "    <tr>\n",
       "      <th>3</th>\n",
       "      <td>1/2/06</td>\n",
       "      <td>Necesario</td>\n",
       "      <td>0</td>\n",
       "      <td>20/1/64</td>\n",
       "      <td>XALAPA - ENRIQUEZ</td>\n",
       "      <td>XALAPA</td>\n",
       "      <td>VERACRUZ</td>\n",
       "      <td>MEXICO</td>\n",
       "      <td>42.0</td>\n",
       "      <td>XALAPA</td>\n",
       "      <td>...</td>\n",
       "      <td>XALAPA</td>\n",
       "      <td>VERACRUZ</td>\n",
       "      <td>PROFESIONAL</td>\n",
       "      <td>EMPLEADO</td>\n",
       "      <td>PREPARATORIA</td>\n",
       "      <td>EMPLEADO</td>\n",
       "      <td>18.0</td>\n",
       "      <td>NaN</td>\n",
       "      <td>2.0</td>\n",
       "      <td>MADRE</td>\n",
       "    </tr>\n",
       "    <tr>\n",
       "      <th>4</th>\n",
       "      <td>1/2/06</td>\n",
       "      <td>Necesario</td>\n",
       "      <td>0</td>\n",
       "      <td>30/10/75</td>\n",
       "      <td>XALAPA - ENRIQUEZ</td>\n",
       "      <td>XALAPA</td>\n",
       "      <td>VERACRUZ</td>\n",
       "      <td>MEXICO</td>\n",
       "      <td>30.0</td>\n",
       "      <td>COATEPEC</td>\n",
       "      <td>...</td>\n",
       "      <td>XALAPA</td>\n",
       "      <td>VERACRUZ</td>\n",
       "      <td>PROFESIONAL</td>\n",
       "      <td>EMPLEADO</td>\n",
       "      <td>PREPARATORIA</td>\n",
       "      <td>NO TRABAJA</td>\n",
       "      <td>7.0</td>\n",
       "      <td>NaN</td>\n",
       "      <td>2.0</td>\n",
       "      <td>MADRE</td>\n",
       "    </tr>\n",
       "  </tbody>\n",
       "</table>\n",
       "<p>5 rows × 41 columns</p>\n",
       "</div>"
      ],
      "text/plain": [
       "  divorce_date type_of_divorce  nationality_partner_man dob_partner_man  \\\n",
       "0       9/6/06       Necesario                        0        18/12/75   \n",
       "1       1/2/00      Voluntario                        0             NaN   \n",
       "2       1/2/05       Necesario                        0         22/2/55   \n",
       "3       1/2/06       Necesario                        0         20/1/64   \n",
       "4       1/2/06       Necesario                        0        30/10/75   \n",
       "\n",
       "  place_of_birth_partner_man birth_municipality_of_partner_man  \\\n",
       "0          XALAPA - ENRIQUEZ                            XALAPA   \n",
       "1                        NaN                               NaN   \n",
       "2          XALAPA - ENRIQUEZ                            XALAPA   \n",
       "3          XALAPA - ENRIQUEZ                            XALAPA   \n",
       "4          XALAPA - ENRIQUEZ                            XALAPA   \n",
       "\n",
       "  birth_federal_partner_man birth_country_partner_man  age_partner_man  \\\n",
       "0                  VERACRUZ                    MEXICO             30.0   \n",
       "1                       NaN                       NaN             47.0   \n",
       "2                  VERACRUZ                    MEXICO             49.0   \n",
       "3                  VERACRUZ                    MEXICO             42.0   \n",
       "4                  VERACRUZ                    MEXICO             30.0   \n",
       "\n",
       "  residence_municipality_partner_man  ... marriage_certificate_municipality  \\\n",
       "0                             XALAPA  ...                            XALAPA   \n",
       "1                                NaN  ...                            XALAPA   \n",
       "2                                NaN  ...                            XALAPA   \n",
       "3                             XALAPA  ...                            XALAPA   \n",
       "4                           COATEPEC  ...                            XALAPA   \n",
       "\n",
       "  marriage_certificate_federal  level_of_education_partner_man  \\\n",
       "0                     VERACRUZ                      SECUNDARIA   \n",
       "1                     VERACRUZ                    PREPARATORIA   \n",
       "2                     VERACRUZ                    PREPARATORIA   \n",
       "3                     VERACRUZ                     PROFESIONAL   \n",
       "4                     VERACRUZ                     PROFESIONAL   \n",
       "\n",
       "  employment_status_partner_man level_of_education_partner_woman  \\\n",
       "0                        OBRERO                       SECUNDARIA   \n",
       "1               ESTABLECIMIENTO                     PREPARATORIA   \n",
       "2                        OBRERO                              NaN   \n",
       "3                      EMPLEADO                     PREPARATORIA   \n",
       "4                      EMPLEADO                     PREPARATORIA   \n",
       "\n",
       "                employment_status_partner_woman marriage_duration  \\\n",
       "0                                      EMPLEADO               5.0   \n",
       "1                                      EMPLEADO               NaN   \n",
       "2  TRABAJADOR POR CUENTA PROPIA EN VIA PUBLICA                NaN   \n",
       "3                                      EMPLEADO              18.0   \n",
       "4                                    NO TRABAJA               7.0   \n",
       "\n",
       "  marriage_duration_months num_children custody  \n",
       "0                      NaN          1.0     NaN  \n",
       "1                      NaN          NaN     NaN  \n",
       "2                      NaN          NaN     NaN  \n",
       "3                      NaN          2.0   MADRE  \n",
       "4                      NaN          2.0   MADRE  \n",
       "\n",
       "[5 rows x 41 columns]"
      ]
     },
     "execution_count": 10,
     "metadata": {},
     "output_type": "execute_result"
    }
   ],
   "source": [
    "df.head()"
   ]
  },
  {
   "cell_type": "code",
   "execution_count": 11,
   "id": "89f81dbd",
   "metadata": {},
   "outputs": [
    {
     "name": "stdout",
     "output_type": "stream",
     "text": [
      "Now looking at feature 3.\n"
     ]
    },
    {
     "data": {
      "text/plain": [
       "dob_partner_man\n",
       "25/5/73     5\n",
       "5/4/74      5\n",
       "17/3/75     4\n",
       "23/4/74     4\n",
       "2/8/61      4\n",
       "           ..\n",
       "1/10/72     1\n",
       "19/6/68     1\n",
       "5/3/70      1\n",
       "20/12/77    1\n",
       "7/2/58      1\n",
       "Name: count, Length: 3848, dtype: int64"
      ]
     },
     "execution_count": 11,
     "metadata": {},
     "output_type": "execute_result"
    }
   ],
   "source": [
    "i += 1\n",
    "print(f\"Now looking at feature {i}.\")\n",
    "df[df.columns[i]].value_counts()"
   ]
  },
  {
   "cell_type": "markdown",
   "id": "a2a71cff",
   "metadata": {},
   "source": [
    "Hmm, potentially let us simplify.... Oh wait, I just ealized - I want to example their relative ages.Hence, I'd need tha divocre data ultimately.... we'll keep on going for now though."
   ]
  },
  {
   "cell_type": "code",
   "execution_count": 12,
   "id": "d2ac1034",
   "metadata": {},
   "outputs": [
    {
     "name": "stdout",
     "output_type": "stream",
     "text": [
      "Now looking at feature 4.\n"
     ]
    },
    {
     "data": {
      "text/plain": [
       "place_of_birth_partner_man\n",
       "XALAPA - ENRIQUEZ    2472\n",
       "DISTRITO FEDERAL      347\n",
       "VERACRUZ              129\n",
       "COATEPEC               68\n",
       "POZA RICA              49\n",
       "                     ... \n",
       "ANTONIO HIDALGO         1\n",
       "ESPARTACO               1\n",
       "AHUACATAN               1\n",
       "SAN PABLO COAPAN        1\n",
       "EL LIMON                1\n",
       "Name: count, Length: 669, dtype: int64"
      ]
     },
     "execution_count": 12,
     "metadata": {},
     "output_type": "execute_result"
    }
   ],
   "source": [
    "i += 1\n",
    "print(f\"Now looking at feature {i}.\")\n",
    "df[df.columns[i]].value_counts()"
   ]
  },
  {
   "cell_type": "markdown",
   "id": "0b6cf111",
   "metadata": {},
   "source": [
    "Yeah, we're simplifyng this. Let the cut off be 10 (beyond the scope to comment here why I'm chosing that number)."
   ]
  },
  {
   "cell_type": "code",
   "execution_count": 13,
   "id": "31091bbd",
   "metadata": {},
   "outputs": [
    {
     "name": "stdout",
     "output_type": "stream",
     "text": [
      "Next up to be deleted is place_of_birth_partner_man and now we're poised to delete a total of 2 from our dataframe.\n"
     ]
    }
   ],
   "source": [
    "to_be_deleted.append(df.columns[i])\n",
    "print(f\"Next up to be deleted is {df.columns[i]} and now we're poised to delete a total of {len(to_be_deleted)} from our dataframe.\")"
   ]
  },
  {
   "cell_type": "code",
   "execution_count": 14,
   "id": "6e606a9f",
   "metadata": {},
   "outputs": [
    {
     "name": "stdout",
     "output_type": "stream",
     "text": [
      "Now looking at feature 5.\n"
     ]
    },
    {
     "data": {
      "text/plain": [
       "birth_municipality_of_partner_man\n",
       "XALAPA                   2479\n",
       "DISTRITO FEDERAL          348\n",
       "VERACRUZ                  131\n",
       "COATEPEC                   78\n",
       "MARTINEZ DE LA TORRE       60\n",
       "                         ... \n",
       "PATZCUARO                   1\n",
       "TOPILITOS DE ZARAGOZA       1\n",
       "TULA DE ALLENDE             1\n",
       "PARRAL                      1\n",
       "ZAUTLA                      1\n",
       "Name: count, Length: 424, dtype: int64"
      ]
     },
     "execution_count": 14,
     "metadata": {},
     "output_type": "execute_result"
    }
   ],
   "source": [
    "i += 1\n",
    "print(f\"Now looking at feature {i}.\")\n",
    "df[df.columns[i]].value_counts()"
   ]
  },
  {
   "cell_type": "markdown",
   "id": "cbc1c46b",
   "metadata": {},
   "source": [
    "Somehow different??? A bit tempted to delete as a quick scan shows barely any differencs. However, this seems more inclusive so I'll go with this (424 vs. 669)."
   ]
  },
  {
   "cell_type": "code",
   "execution_count": 15,
   "id": "fe485a0c",
   "metadata": {},
   "outputs": [
    {
     "data": {
      "text/plain": [
       "['XALAPA',\n",
       " 'DISTRITO FEDERAL',\n",
       " 'VERACRUZ',\n",
       " 'COATEPEC',\n",
       " 'MARTINEZ DE LA TORRE',\n",
       " 'MISANTLA',\n",
       " 'POZA RICA',\n",
       " 'ORIZABA',\n",
       " 'CORDOBA']"
      ]
     },
     "execution_count": 15,
     "metadata": {},
     "output_type": "execute_result"
    }
   ],
   "source": [
    "list(df[df.columns[i]].value_counts(normalize=True)[:9].index)"
   ]
  },
  {
   "cell_type": "code",
   "execution_count": 16,
   "id": "635ffaed",
   "metadata": {},
   "outputs": [
    {
     "name": "stdout",
     "output_type": "stream",
     "text": [
      "0.6846057571964955\n"
     ]
    }
   ],
   "source": [
    "print(sum(df[df.columns[i]].value_counts(normalize=True)[:9]))"
   ]
  },
  {
   "cell_type": "code",
   "execution_count": 17,
   "id": "917a6eb9",
   "metadata": {},
   "outputs": [],
   "source": [
    "#I feel like I had a neat code to do this. Oh Well.\n",
    "\n",
    "feature_keepers = list(df[df.columns[i]].value_counts(normalize=True)[:9].index)\n",
    "\n",
    "#Somewhat arbitrarily chosen, but eh. After like 7 they have such a small amount... Will simplify.\n",
    "\n",
    "df[df.columns[i]] = [\"OTHER\" if i not in feature_keepers  else i for i in df[df.columns[i]]]"
   ]
  },
  {
   "cell_type": "code",
   "execution_count": null,
   "id": "fe8fa60f",
   "metadata": {},
   "outputs": [],
   "source": []
  },
  {
   "cell_type": "code",
   "execution_count": 18,
   "id": "bd4b5fc0",
   "metadata": {},
   "outputs": [
    {
     "name": "stdout",
     "output_type": "stream",
     "text": [
      "Now looking at feature 6.\n"
     ]
    },
    {
     "data": {
      "text/plain": [
       "birth_federal_partner_man\n",
       "VERACRUZ              3920\n",
       "DISTRITO FEDERAL       403\n",
       "PUEBLA                 111\n",
       "TAMAULIPAS              33\n",
       "OAXACA                  30\n",
       "                      ... \n",
       "EL SALVADOR              1\n",
       "GALICIA                  1\n",
       "MISSOURI                 1\n",
       "CAMAG√úEY                1\n",
       "NORTE DE SANTANDER       1\n",
       "Name: count, Length: 76, dtype: int64"
      ]
     },
     "execution_count": 18,
     "metadata": {},
     "output_type": "execute_result"
    }
   ],
   "source": [
    "i += 1\n",
    "print(f\"Now looking at feature {i}.\")\n",
    "df[df.columns[i]].value_counts()"
   ]
  },
  {
   "cell_type": "markdown",
   "id": "46b5affa",
   "metadata": {},
   "source": [
    "Similar to the other.... We might as well keep it Especially since we're condensing. This time we'll simplify it to Puebla than 'Other' as they don' even have 100..."
   ]
  },
  {
   "cell_type": "code",
   "execution_count": 19,
   "id": "53878c7e",
   "metadata": {},
   "outputs": [],
   "source": [
    "feature_keepers = list(df[df.columns[i]].value_counts(normalize=True)[:3].index)\n",
    "df[df.columns[i]] = [\"OTHER\" if i not in feature_keepers  else i for i in df[df.columns[i]]]"
   ]
  },
  {
   "cell_type": "code",
   "execution_count": 20,
   "id": "f83fc794",
   "metadata": {},
   "outputs": [
    {
     "name": "stdout",
     "output_type": "stream",
     "text": [
      "Now looking at feature 7.\n"
     ]
    },
    {
     "data": {
      "text/plain": [
       "birth_country_partner_man\n",
       "MEXICO                       4748\n",
       "CUBA                            8\n",
       "ESPA√ëA                         8\n",
       "ESTADOS UNIDOS DE AMERICA       6\n",
       "ARGENTINA                       3\n",
       "COLOMBIA                        3\n",
       "FRANCIA                         3\n",
       "VENEZUELA                       2\n",
       "POLONIA                         2\n",
       "ALEMANIA                        2\n",
       "COSTA RICA                      1\n",
       "CANADA                          1\n",
       "CENTRO AMERICA                  1\n",
       "CHILE                           1\n",
       "IRAN                            1\n",
       "ITALIA                          1\n",
       "JAPON                           1\n",
       "MARYLAND                        1\n",
       "INGLATERRA                      1\n",
       "AUSTRALIA                       1\n",
       "NICARAGUA                       1\n",
       "Name: count, dtype: int64"
      ]
     },
     "execution_count": 20,
     "metadata": {},
     "output_type": "execute_result"
    }
   ],
   "source": [
    "i += 1\n",
    "print(f\"Now looking at feature {i}.\")\n",
    "df[df.columns[i]].value_counts()"
   ]
  },
  {
   "cell_type": "markdown",
   "id": "4407873b",
   "metadata": {},
   "source": [
    "Unsurprising... we'll keep both for now. Especially when this will get simplified to binary Mexico or not."
   ]
  },
  {
   "cell_type": "code",
   "execution_count": 21,
   "id": "04dfdcb6",
   "metadata": {},
   "outputs": [],
   "source": [
    "feature_keepers = list(df[df.columns[i]].value_counts(normalize=True)[:1].index)\n",
    "df[df.columns[i]] = [\"OTHER\" if i not in feature_keepers  else i for i in df[df.columns[i]]]"
   ]
  },
  {
   "cell_type": "code",
   "execution_count": 22,
   "id": "f182eba9",
   "metadata": {},
   "outputs": [
    {
     "name": "stdout",
     "output_type": "stream",
     "text": [
      "Now looking at feature 8.\n"
     ]
    },
    {
     "data": {
      "text/plain": [
       "age_partner_man\n",
       "34.0    235\n",
       "31.0    216\n",
       "35.0    212\n",
       "32.0    203\n",
       "36.0    203\n",
       "       ... \n",
       "78.0      2\n",
       "76.0      2\n",
       "75.0      2\n",
       "91.0      1\n",
       "83.0      1\n",
       "Name: count, Length: 62, dtype: int64"
      ]
     },
     "execution_count": 22,
     "metadata": {},
     "output_type": "execute_result"
    }
   ],
   "source": [
    "i += 1\n",
    "print(f\"Now looking at feature {i}.\")\n",
    "df[df.columns[i]].value_counts()"
   ]
  },
  {
   "cell_type": "markdown",
   "id": "1d214d5d",
   "metadata": {},
   "source": [
    "I just reconfirmed and yes this is referring to dod. Hence, we're good to go to simplify by removing (as we originally assumed) the dob. However, I'd still be interested in seeing about how old they were when they got married. So, we'll see."
   ]
  },
  {
   "cell_type": "code",
   "execution_count": 23,
   "id": "3e512fee",
   "metadata": {},
   "outputs": [
    {
     "name": "stdout",
     "output_type": "stream",
     "text": [
      "Now looking at feature 9.\n"
     ]
    },
    {
     "data": {
      "text/plain": [
       "residence_municipality_partner_man\n",
       "XALAPA                 3927\n",
       "VERACRUZ                 67\n",
       "COATEPEC                 63\n",
       "EMILIANO ZAPATA          62\n",
       "DISTRITO FEDERAL         40\n",
       "                       ... \n",
       "SEBASTIAN TUXTLA          1\n",
       "GUSTAVO A. MADERO         1\n",
       "PETLALCINGO               1\n",
       "TECOLUTILLA               1\n",
       "SANTA MARIA EL TULE       1\n",
       "Name: count, Length: 175, dtype: int64"
      ]
     },
     "execution_count": 23,
     "metadata": {},
     "output_type": "execute_result"
    }
   ],
   "source": [
    "i += 1\n",
    "print(f\"Now looking at feature {i}.\")\n",
    "df[df.columns[i]].value_counts()"
   ]
  },
  {
   "cell_type": "code",
   "execution_count": 24,
   "id": "a067644b",
   "metadata": {},
   "outputs": [
    {
     "data": {
      "text/plain": [
       "residence_municipality_partner_man\n",
       "XALAPA             0.853881\n",
       "VERACRUZ           0.014568\n",
       "COATEPEC           0.013699\n",
       "EMILIANO ZAPATA    0.013481\n",
       "Name: proportion, dtype: float64"
      ]
     },
     "execution_count": 24,
     "metadata": {},
     "output_type": "execute_result"
    }
   ],
   "source": [
    "df[df.columns[i]].value_counts(normalize=True)[:4]"
   ]
  },
  {
   "cell_type": "markdown",
   "id": "554dcada",
   "metadata": {},
   "source": [
    "Eh... who cares. We'll keep it. Simplify it to anything past Emiliana Zapata ak 1 percent is other."
   ]
  },
  {
   "cell_type": "code",
   "execution_count": 25,
   "id": "f1509cb1",
   "metadata": {},
   "outputs": [],
   "source": [
    "feature_keepers = list(df[df.columns[i]].value_counts(normalize=True)[:4].index)\n",
    "df[df.columns[i]] = [\"OTHER\" if i not in feature_keepers  else i for i in df[df.columns[i]]]"
   ]
  },
  {
   "cell_type": "code",
   "execution_count": 26,
   "id": "516f8471",
   "metadata": {},
   "outputs": [
    {
     "name": "stdout",
     "output_type": "stream",
     "text": [
      "Now looking at feature 10.\n"
     ]
    },
    {
     "data": {
      "text/plain": [
       "residence_federal_partner_man\n",
       "VERACRUZ            4402\n",
       "DISTRITO FEDERAL      53\n",
       "PUEBLA                27\n",
       "TABASCO               11\n",
       "CHIAPAS                8\n",
       "Name: count, dtype: int64"
      ]
     },
     "execution_count": 26,
     "metadata": {},
     "output_type": "execute_result"
    }
   ],
   "source": [
    "i += 1\n",
    "print(f\"Now looking at feature {i}.\")\n",
    "df[df.columns[i]].value_counts()[:5]"
   ]
  },
  {
   "cell_type": "markdown",
   "id": "e3c951ca",
   "metadata": {},
   "source": [
    "Yeah, this is becoming binary. More spread out than the 'birth_country_partner_man' so worth having both."
   ]
  },
  {
   "cell_type": "code",
   "execution_count": 27,
   "id": "488cd571",
   "metadata": {},
   "outputs": [],
   "source": [
    "feature_keepers = list(df[df.columns[i]].value_counts(normalize=True)[:1].index)\n",
    "df[df.columns[i]] = [\"OTHER\" if i not in feature_keepers  else i for i in df[df.columns[i]]]"
   ]
  },
  {
   "cell_type": "code",
   "execution_count": 28,
   "id": "2d7952a8",
   "metadata": {},
   "outputs": [
    {
     "name": "stdout",
     "output_type": "stream",
     "text": [
      "Now looking at feature 11.\n"
     ]
    },
    {
     "data": {
      "text/plain": [
       "residence_country_partner_man\n",
       "MEXICO                       4589\n",
       "ESTADOS UNIDOS DE AMERICA       7\n",
       "ESPA√ëA                         1\n",
       "AUSTRALIA                       1\n",
       "PUERTO RICO                     1\n",
       "Name: count, dtype: int64"
      ]
     },
     "execution_count": 28,
     "metadata": {},
     "output_type": "execute_result"
    }
   ],
   "source": [
    "i += 1\n",
    "print(f\"Now looking at feature {i}.\")\n",
    "df[df.columns[i]].value_counts()"
   ]
  },
  {
   "cell_type": "markdown",
   "id": "0275c824",
   "metadata": {},
   "source": [
    "Heads up already re. potential inflation issues. However, the data isn't too far apart so we'll likely be lax and not bother for the sake of this study.\n",
    "\n",
    "Perhaps if it turns out that this feature is super significant we'll reconsider."
   ]
  },
  {
   "cell_type": "code",
   "execution_count": null,
   "id": "f981a186",
   "metadata": {},
   "outputs": [],
   "source": []
  },
  {
   "cell_type": "code",
   "execution_count": 29,
   "id": "46ca2c7b",
   "metadata": {},
   "outputs": [
    {
     "name": "stdout",
     "output_type": "stream",
     "text": [
      "Now looking at feature 12.\n"
     ]
    },
    {
     "data": {
      "text/plain": [
       "monthly_income_partner_man_peso\n",
       "5000.0     326\n",
       "3000.0     301\n",
       "4000.0     279\n",
       "10000.0    276\n",
       "6000.0     275\n",
       "          ... \n",
       "95000.0      1\n",
       "6300.0       1\n",
       "4100.0       1\n",
       "550.0        1\n",
       "12500.0      1\n",
       "Name: count, Length: 214, dtype: int64"
      ]
     },
     "execution_count": 29,
     "metadata": {},
     "output_type": "execute_result"
    }
   ],
   "source": [
    "i += 1\n",
    "print(f\"Now looking at feature {i}.\")\n",
    "df[df.columns[i]].value_counts()"
   ]
  },
  {
   "cell_type": "markdown",
   "id": "a58c6b9f",
   "metadata": {},
   "source": [
    "\n",
    "Hmm,pretty small after the first one. Potentially a move to just make this binary. At least for now we'll conntinue."
   ]
  },
  {
   "cell_type": "code",
   "execution_count": null,
   "id": "791bdfbb",
   "metadata": {},
   "outputs": [],
   "source": []
  },
  {
   "cell_type": "code",
   "execution_count": null,
   "id": "e6c13000",
   "metadata": {},
   "outputs": [],
   "source": []
  },
  {
   "cell_type": "code",
   "execution_count": 30,
   "id": "626d5898",
   "metadata": {},
   "outputs": [
    {
     "name": "stdout",
     "output_type": "stream",
     "text": [
      "Now looking at feature 13.\n"
     ]
    },
    {
     "data": {
      "text/plain": [
       "occupation_partner_man\n",
       "EMPLEADO                0.535275\n",
       "COMERCIANTE             0.068047\n",
       "PROFESOR                0.030041\n",
       "MAESTRO                 0.020255\n",
       "MEDICO                  0.019800\n",
       "                          ...   \n",
       "AGENTE DE SEGUROS       0.000228\n",
       "PRODUCTOR               0.000228\n",
       "ADMINISTRATIVO          0.000228\n",
       "MEDICO ANESTECIOLOGO    0.000228\n",
       "CAPITAN DE CORBETA      0.000228\n",
       "Name: proportion, Length: 221, dtype: float64"
      ]
     },
     "execution_count": 30,
     "metadata": {},
     "output_type": "execute_result"
    }
   ],
   "source": [
    "i += 1\n",
    "print(f\"Now looking at feature {i}.\")\n",
    "df[df.columns[i]].value_counts(normalize=True)"
   ]
  },
  {
   "cell_type": "markdown",
   "id": "a6eaee68",
   "metadata": {},
   "source": [
    "First 4 are more than 2%; 13 are 1% so at most do 13 than an other category. They sum up to 65 and 80%."
   ]
  },
  {
   "cell_type": "markdown",
   "id": "dae62ee6",
   "metadata": {},
   "source": [
    "Similar to things we've seen before, but eh..."
   ]
  },
  {
   "cell_type": "code",
   "execution_count": 95,
   "id": "dffce66e",
   "metadata": {},
   "outputs": [
    {
     "data": {
      "text/plain": [
       "0.9731870810481414"
      ]
     },
     "execution_count": 95,
     "metadata": {},
     "output_type": "execute_result"
    }
   ],
   "source": [
    "sum(df[df.columns[13]].value_counts(normalize=True)[:3]) #I think I'm doing something wrong here when I wnet back to check this out\n",
    "#Will worry about it lter."
   ]
  },
  {
   "cell_type": "code",
   "execution_count": 31,
   "id": "1531fda3",
   "metadata": {},
   "outputs": [],
   "source": [
    "feature_keepers = list(df[df.columns[i]].value_counts(normalize=True)[:3].index)\n",
    "df[df.columns[i]] = [\"OTHER\" if i not in feature_keepers  else i for i in df[df.columns[i]]]"
   ]
  },
  {
   "cell_type": "markdown",
   "id": "d995da1c",
   "metadata": {},
   "source": [
    "## Re. the women:\n",
    "\n",
    "By default won't bother to comment unless I notice trends that I find significant between the two. Ie even if the nationality is much more likely to be Mexican if a woman I won't bother commenting given that they're similar."
   ]
  },
  {
   "cell_type": "code",
   "execution_count": 32,
   "id": "30bc1c89",
   "metadata": {},
   "outputs": [
    {
     "name": "stdout",
     "output_type": "stream",
     "text": [
      "Now looking at feature 14.\n"
     ]
    },
    {
     "data": {
      "text/plain": [
       "place_of_residence_partner_man\n",
       "XALAPA-ENRIQUEZ     0.851369\n",
       "VERACRUZ            0.014342\n",
       "COATEPEC            0.012386\n",
       "EMILIANO ZAPATA     0.008040\n",
       "DISTRITO FEDERAL    0.007388\n",
       "                      ...   \n",
       "ZONGOLICA           0.000217\n",
       "CERRO COLORADO      0.000217\n",
       "MIGUEL HIDALGO      0.000217\n",
       "ALVARO OBREGON      0.000217\n",
       "LAS PUENTES         0.000217\n",
       "Name: proportion, Length: 229, dtype: float64"
      ]
     },
     "execution_count": 32,
     "metadata": {},
     "output_type": "execute_result"
    }
   ],
   "source": [
    "i += 1\n",
    "print(f\"Now looking at feature {i}.\")\n",
    "df[df.columns[i]].value_counts(normalize=True)"
   ]
  },
  {
   "cell_type": "code",
   "execution_count": 33,
   "id": "daf0d8fc",
   "metadata": {},
   "outputs": [],
   "source": [
    "feature_keepers = list(df[df.columns[i]].value_counts(normalize=True)[:1].index)\n",
    "df[df.columns[i]] = [\"OTHER\" if i not in feature_keepers  else i for i in df[df.columns[i]]]"
   ]
  },
  {
   "cell_type": "code",
   "execution_count": null,
   "id": "c2a86c3c",
   "metadata": {},
   "outputs": [],
   "source": []
  },
  {
   "cell_type": "code",
   "execution_count": 34,
   "id": "68c3a6fa",
   "metadata": {},
   "outputs": [
    {
     "name": "stdout",
     "output_type": "stream",
     "text": [
      "Now looking at feature 15.\n"
     ]
    },
    {
     "data": {
      "text/plain": [
       "nationality_partner_woman\n",
       "MEXICANA          4890\n",
       "CUBANA               6\n",
       "ESTADOUNIDENSE       5\n",
       "FRANCESA             3\n",
       "ESPA√ëOLA            3\n",
       "ARGENTINA            2\n",
       "POLACA               2\n",
       "BRASILE√ëA           1\n",
       "PERUANA              1\n",
       "DOMINICANA           1\n",
       "VENEZOLANA           1\n",
       "COLOMBIANA           1\n",
       "BOLIVIANA            1\n",
       "JAPONESA             1\n",
       "BRITANICA            1\n",
       "SUIZA                1\n",
       "Name: count, dtype: int64"
      ]
     },
     "execution_count": 34,
     "metadata": {},
     "output_type": "execute_result"
    }
   ],
   "source": [
    "i += 1\n",
    "print(f\"Now looking at feature {i}.\")\n",
    "df[df.columns[i]].value_counts()"
   ]
  },
  {
   "cell_type": "code",
   "execution_count": null,
   "id": "e9eaf404",
   "metadata": {},
   "outputs": [],
   "source": []
  },
  {
   "cell_type": "code",
   "execution_count": null,
   "id": "1abb7931",
   "metadata": {},
   "outputs": [],
   "source": []
  },
  {
   "cell_type": "code",
   "execution_count": 36,
   "id": "13b88027",
   "metadata": {},
   "outputs": [
    {
     "name": "stdout",
     "output_type": "stream",
     "text": [
      "Now looking at feature 16.\n"
     ]
    },
    {
     "data": {
      "text/plain": [
       "dob_partner_woman\n",
       "11/12/72    5\n",
       "19/2/71     5\n",
       "6/6/68      4\n",
       "6/7/77      4\n",
       "3/6/72      4\n",
       "           ..\n",
       "28/2/65     1\n",
       "11/12/71    1\n",
       "1/10/52     1\n",
       "25/3/76     1\n",
       "22/1/72     1\n",
       "Name: count, Length: 3765, dtype: int64"
      ]
     },
     "execution_count": 36,
     "metadata": {},
     "output_type": "execute_result"
    }
   ],
   "source": [
    "i += 1\n",
    "print(f\"Now looking at feature {i}.\")\n",
    "df[df.columns[i]].value_counts()"
   ]
  },
  {
   "cell_type": "markdown",
   "id": "b17311dd",
   "metadata": {},
   "source": [
    "Like earlier with the man, it's want to be deleted. But, let's continue for now."
   ]
  },
  {
   "cell_type": "code",
   "execution_count": null,
   "id": "37319806",
   "metadata": {},
   "outputs": [],
   "source": []
  },
  {
   "cell_type": "code",
   "execution_count": 37,
   "id": "67fecf32",
   "metadata": {},
   "outputs": [
    {
     "name": "stdout",
     "output_type": "stream",
     "text": [
      "Now looking at feature 17.\n"
     ]
    },
    {
     "data": {
      "text/plain": [
       "dob_registration_date_partner_woman\n",
       "21/2/73     4\n",
       "1/8/77      3\n",
       "7/7/69      3\n",
       "3/5/73      3\n",
       "8/6/70      3\n",
       "           ..\n",
       "16/2/52     1\n",
       "31/8/74     1\n",
       "29/5/87     1\n",
       "27/12/76    1\n",
       "7/9/72      1\n",
       "Name: count, Length: 2003, dtype: int64"
      ]
     },
     "execution_count": 37,
     "metadata": {},
     "output_type": "execute_result"
    }
   ],
   "source": [
    "i += 1\n",
    "print(f\"Now looking at feature {i}.\")\n",
    "df[df.columns[i]].value_counts()"
   ]
  },
  {
   "cell_type": "markdown",
   "id": "26d659d9",
   "metadata": {},
   "source": [
    "Woah, we did not have this earlier. More than half nulls and not even sure what it is. Perhaps a proxy of some kind for growing up in a messed up home if the dob somehow wasn't legally/formally recognized in a hospital. Really do not know. But yeah, we're deleting this one."
   ]
  },
  {
   "cell_type": "code",
   "execution_count": 68,
   "id": "e9b6f9da",
   "metadata": {},
   "outputs": [],
   "source": [
    "j = -1"
   ]
  },
  {
   "cell_type": "code",
   "execution_count": 77,
   "id": "0245c0ec",
   "metadata": {},
   "outputs": [
    {
     "name": "stdout",
     "output_type": "stream",
     "text": [
      "8\n"
     ]
    },
    {
     "data": {
      "text/plain": [
       "divorce_date                                     1/2/08\n",
       "type_of_divorce                              Voluntario\n",
       "nationality_partner_man                               0\n",
       "dob_partner_man                                 2/12/76\n",
       "place_of_birth_partner_man                 CIUDAD MANTE\n",
       "birth_municipality_of_partner_man                 OTHER\n",
       "birth_federal_partner_man                         OTHER\n",
       "birth_country_partner_man                        MEXICO\n",
       "age_partner_man                                    31.0\n",
       "residence_municipality_partner_man                OTHER\n",
       "residence_federal_partner_man                     OTHER\n",
       "residence_country_partner_man                    MEXICO\n",
       "monthly_income_partner_man_peso                 15000.0\n",
       "occupation_partner_man                      COMERCIANTE\n",
       "place_of_residence_partner_man                    OTHER\n",
       "nationality_partner_woman                      MEXICANA\n",
       "dob_partner_woman                                3/1/80\n",
       "dob_registration_date_partner_woman             28/1/80\n",
       "place_of_birth_partner_woman               VILLAHERMOSA\n",
       "birth_municipality_of_partner_woman        VILLAHERMOSA\n",
       "birth_federal_partner_woman                     TABASCO\n",
       "birth_country_partner_woman                      MEXICO\n",
       "age_partner_woman                                  28.0\n",
       "place_of_residence_partner_woman        XALAPA-ENRIQUEZ\n",
       "residence_municipality_partner_woman             XALAPA\n",
       "residence_federal_partner_woman                VERACRUZ\n",
       "residence_country_partner_woman                  MEXICO\n",
       "occupation_partner_woman                       EMPLEADA\n",
       "monthly_income_partner_woman_peso                   NaN\n",
       "date_of_marriage                                 3/6/06\n",
       "marriage_certificate_place                       XALAPA\n",
       "marriage_certificate_municipality                XALAPA\n",
       "marriage_certificate_federal                   VERACRUZ\n",
       "level_of_education_partner_man              PROFESIONAL\n",
       "employment_status_partner_man                  EMPLEADO\n",
       "level_of_education_partner_woman            PROFESIONAL\n",
       "employment_status_partner_woman              NO TRABAJA\n",
       "marriage_duration                                   1.0\n",
       "marriage_duration_months                            7.0\n",
       "num_children                                        NaN\n",
       "custody                                             NaN\n",
       "Name: 8, dtype: object"
      ]
     },
     "execution_count": 77,
     "metadata": {},
     "output_type": "execute_result"
    }
   ],
   "source": [
    "j += 1\n",
    "print(j)\n",
    "df.iloc[j]"
   ]
  },
  {
   "cell_type": "code",
   "execution_count": 78,
   "id": "41de9c9b",
   "metadata": {},
   "outputs": [
    {
     "name": "stdout",
     "output_type": "stream",
     "text": [
      "Next up to be deleted is dob_registration_date_partner_woman and now we're poised to delete a total of 3 from our dataframe.\n"
     ]
    }
   ],
   "source": [
    "to_be_deleted.append(df.columns[i])\n",
    "print(f\"Next up to be deleted is {df.columns[i]} and now we're poised to delete a total of {len(to_be_deleted)} from our dataframe.\")"
   ]
  },
  {
   "cell_type": "code",
   "execution_count": 79,
   "id": "86ed4e28",
   "metadata": {},
   "outputs": [
    {
     "name": "stdout",
     "output_type": "stream",
     "text": [
      "Now looking at feature 18.\n"
     ]
    },
    {
     "data": {
      "text/plain": [
       "place_of_birth_partner_woman\n",
       "XALAPA-ENRIQUEZ         2595\n",
       "DISTRITO FEDERAL         306\n",
       "VERACRUZ                 107\n",
       "POZA RICA                 54\n",
       "MARTINEZ DE LA TORRE      51\n",
       "                        ... \n",
       "EL TIBOR                   1\n",
       "TLATLAUQUITEPEC            1\n",
       "HUAYACOCOTLA               1\n",
       "MIRADORES DEL MAR          1\n",
       "LA LIMA                    1\n",
       "Name: count, Length: 653, dtype: int64"
      ]
     },
     "execution_count": 79,
     "metadata": {},
     "output_type": "execute_result"
    }
   ],
   "source": [
    "i += 1\n",
    "print(f\"Now looking at feature {i}.\")\n",
    "df[df.columns[i]].value_counts()"
   ]
  },
  {
   "cell_type": "markdown",
   "id": "08a885ce",
   "metadata": {},
   "source": [
    "Like above... Besides we're deletign something I'll actually comment though."
   ]
  },
  {
   "cell_type": "code",
   "execution_count": 80,
   "id": "82a476d8",
   "metadata": {},
   "outputs": [
    {
     "name": "stdout",
     "output_type": "stream",
     "text": [
      "Next up to be deleted is place_of_birth_partner_woman and now we're poised to delete a total of 4 from our dataframe.\n"
     ]
    }
   ],
   "source": [
    "to_be_deleted.append(df.columns[i])\n",
    "print(f\"Next up to be deleted is {df.columns[i]} and now we're poised to delete a total of {len(to_be_deleted)} from our dataframe.\")"
   ]
  },
  {
   "cell_type": "code",
   "execution_count": null,
   "id": "d5b8233b",
   "metadata": {},
   "outputs": [],
   "source": []
  },
  {
   "cell_type": "code",
   "execution_count": 81,
   "id": "f8f6641c",
   "metadata": {},
   "outputs": [
    {
     "name": "stdout",
     "output_type": "stream",
     "text": [
      "Now looking at feature 19.\n"
     ]
    },
    {
     "data": {
      "text/plain": [
       "birth_municipality_of_partner_woman\n",
       "XALAPA                  2612\n",
       "DISTRITO FEDERAL         308\n",
       "VERACRUZ                 110\n",
       "MARTINEZ DE LA TORRE      66\n",
       "POZA RICA                 55\n",
       "                        ... \n",
       "IRAPUATO                   1\n",
       "OTATITLAN                  1\n",
       "IXTACZOQUITLAN             1\n",
       "JESUS CARRANZA             1\n",
       "PONTEVEDRA                 1\n",
       "Name: count, Length: 404, dtype: int64"
      ]
     },
     "execution_count": 81,
     "metadata": {},
     "output_type": "execute_result"
    }
   ],
   "source": [
    "i += 1\n",
    "print(f\"Now looking at feature {i}.\")\n",
    "df[df.columns[i]].value_counts()"
   ]
  },
  {
   "cell_type": "code",
   "execution_count": null,
   "id": "b525a78c",
   "metadata": {},
   "outputs": [],
   "source": []
  },
  {
   "cell_type": "code",
   "execution_count": null,
   "id": "bdd528f9",
   "metadata": {},
   "outputs": [],
   "source": []
  },
  {
   "cell_type": "code",
   "execution_count": 82,
   "id": "bfcec0d2",
   "metadata": {},
   "outputs": [
    {
     "name": "stdout",
     "output_type": "stream",
     "text": [
      "Now looking at feature 20.\n"
     ]
    },
    {
     "data": {
      "text/plain": [
       "birth_federal_partner_woman\n",
       "VERACRUZ            4011\n",
       "DISTRITO FEDERAL     362\n",
       "PUEBLA                93\n",
       "OAXACA                38\n",
       "TAMAULIPAS            30\n",
       "                    ... \n",
       "SANTO DOMINGO          1\n",
       "NUEVA ESPARTA          1\n",
       "SAN PAULO              1\n",
       "ESPA√ëA                1\n",
       "ZURICH                 1\n",
       "Name: count, Length: 72, dtype: int64"
      ]
     },
     "execution_count": 82,
     "metadata": {},
     "output_type": "execute_result"
    }
   ],
   "source": [
    "i += 1\n",
    "print(f\"Now looking at feature {i}.\")\n",
    "df[df.columns[i]].value_counts()"
   ]
  },
  {
   "cell_type": "code",
   "execution_count": null,
   "id": "b15c42fc",
   "metadata": {},
   "outputs": [],
   "source": []
  },
  {
   "cell_type": "code",
   "execution_count": null,
   "id": "10016da6",
   "metadata": {},
   "outputs": [],
   "source": []
  },
  {
   "cell_type": "code",
   "execution_count": 83,
   "id": "28deb936",
   "metadata": {},
   "outputs": [
    {
     "name": "stdout",
     "output_type": "stream",
     "text": [
      "Now looking at feature 21.\n"
     ]
    },
    {
     "data": {
      "text/plain": [
       "birth_country_partner_woman\n",
       "MEXICO                       4742\n",
       "ESTADOS UNIDOS DE AMERICA       7\n",
       "CUBA                            7\n",
       "ESPA√ëA                         4\n",
       "FRANCIA                         3\n",
       "REPUBLICA DOMINICANA            3\n",
       "BRASIL                          2\n",
       "COLOMBIA                        2\n",
       "SUIZA                           2\n",
       "POLONIA                         2\n",
       "URUGUAY                         1\n",
       "ARGELIA                         1\n",
       "JAPON                           1\n",
       "ARGENTINA                       1\n",
       "VENEZUELA                       1\n",
       "GUATEMALA                       1\n",
       "BOLIVIA                         1\n",
       "CALIFORNIA                      1\n",
       "PERU                            1\n",
       "INGLATERRA                      1\n",
       "Name: count, dtype: int64"
      ]
     },
     "execution_count": 83,
     "metadata": {},
     "output_type": "execute_result"
    }
   ],
   "source": [
    "i += 1\n",
    "print(f\"Now looking at feature {i}.\")\n",
    "df[df.columns[i]].value_counts()"
   ]
  },
  {
   "cell_type": "markdown",
   "id": "6a3e69c1",
   "metadata": {},
   "source": [
    "Interesting that women seems to be more diverse, country wise, than men. Might be significant. Ie would show that there's an inclination for the man to be more 'at ease' in this dataset (via the fact that he's more likely to be 'at home', 'in his element')."
   ]
  },
  {
   "cell_type": "code",
   "execution_count": null,
   "id": "cfdf8a28",
   "metadata": {},
   "outputs": [],
   "source": []
  },
  {
   "cell_type": "code",
   "execution_count": 84,
   "id": "3831fc12",
   "metadata": {},
   "outputs": [
    {
     "name": "stdout",
     "output_type": "stream",
     "text": [
      "Now looking at feature 22.\n"
     ]
    },
    {
     "data": {
      "text/plain": [
       "age_partner_woman\n",
       "33.0    220\n",
       "32.0    213\n",
       "35.0    208\n",
       "29.0    205\n",
       "31.0    194\n",
       "       ... \n",
       "84.0      1\n",
       "76.0      1\n",
       "73.0      1\n",
       "68.0      1\n",
       "75.0      1\n",
       "Name: count, Length: 63, dtype: int64"
      ]
     },
     "execution_count": 84,
     "metadata": {},
     "output_type": "execute_result"
    }
   ],
   "source": [
    "i += 1\n",
    "print(f\"Now looking at feature {i}.\")\n",
    "df[df.columns[i]].value_counts()"
   ]
  },
  {
   "cell_type": "code",
   "execution_count": null,
   "id": "2aefc532",
   "metadata": {},
   "outputs": [],
   "source": []
  },
  {
   "cell_type": "code",
   "execution_count": null,
   "id": "910bb621",
   "metadata": {},
   "outputs": [],
   "source": []
  },
  {
   "cell_type": "code",
   "execution_count": 85,
   "id": "9314f42f",
   "metadata": {},
   "outputs": [
    {
     "name": "stdout",
     "output_type": "stream",
     "text": [
      "Now looking at feature 23.\n"
     ]
    },
    {
     "data": {
      "text/plain": [
       "place_of_residence_partner_woman\n",
       "XALAPA-ENRIQUEZ    4162\n",
       "EMILIANO ZAPATA      43\n",
       "COATEPEC             40\n",
       "VERACRUZ             35\n",
       "BANDERILLA           26\n",
       "                   ... \n",
       "CHILTOYAC             1\n",
       "EL ESPINAL            1\n",
       "VILLA RICA            1\n",
       "INDIANA               1\n",
       "SANTIAGO TUXTLA       1\n",
       "Name: count, Length: 174, dtype: int64"
      ]
     },
     "execution_count": 85,
     "metadata": {},
     "output_type": "execute_result"
    }
   ],
   "source": [
    "i += 1\n",
    "print(f\"Now looking at feature {i}.\")\n",
    "df[df.columns[i]].value_counts()"
   ]
  },
  {
   "cell_type": "code",
   "execution_count": null,
   "id": "9b9be0a6",
   "metadata": {},
   "outputs": [],
   "source": []
  },
  {
   "cell_type": "code",
   "execution_count": null,
   "id": "ef693018",
   "metadata": {},
   "outputs": [],
   "source": []
  },
  {
   "cell_type": "code",
   "execution_count": 86,
   "id": "2593efde",
   "metadata": {},
   "outputs": [
    {
     "name": "stdout",
     "output_type": "stream",
     "text": [
      "Now looking at feature 24.\n"
     ]
    },
    {
     "data": {
      "text/plain": [
       "residence_municipality_partner_woman\n",
       "XALAPA                4179\n",
       "EMILIANO ZAPATA         61\n",
       "COATEPEC                41\n",
       "VERACRUZ                37\n",
       "BANDERILLA              26\n",
       "                      ... \n",
       "PACHUCA                  1\n",
       "TRES VALLES              1\n",
       "VALENCIA                 1\n",
       "CUAUTITLAN IZCALLI       1\n",
       "SANTIAGO TUXTLA          1\n",
       "Name: count, Length: 131, dtype: int64"
      ]
     },
     "execution_count": 86,
     "metadata": {},
     "output_type": "execute_result"
    }
   ],
   "source": [
    "i += 1\n",
    "print(f\"Now looking at feature {i}.\")\n",
    "df[df.columns[i]].value_counts()"
   ]
  },
  {
   "cell_type": "code",
   "execution_count": null,
   "id": "3e1c278d",
   "metadata": {},
   "outputs": [],
   "source": []
  },
  {
   "cell_type": "code",
   "execution_count": null,
   "id": "ce8101f5",
   "metadata": {},
   "outputs": [],
   "source": []
  },
  {
   "cell_type": "code",
   "execution_count": 87,
   "id": "be51c08d",
   "metadata": {},
   "outputs": [
    {
     "name": "stdout",
     "output_type": "stream",
     "text": [
      "Now looking at feature 25.\n"
     ]
    },
    {
     "data": {
      "text/plain": [
       "residence_federal_partner_woman\n",
       "VERACRUZ                4489\n",
       "DISTRITO FEDERAL          25\n",
       "PUEBLA                    13\n",
       "QUINTANA ROO               9\n",
       "QUERETARO                  7\n",
       "TAMAULIPAS                 6\n",
       "MEXICO                     6\n",
       "ESTADO DE MEXICO           6\n",
       "MORELOS                    6\n",
       "CHIAPAS                    5\n",
       "CAMPECHE                   5\n",
       "BAJA CALIFORNIA            5\n",
       "OAXACA                     4\n",
       "TABASCO                    4\n",
       "HIDALGO                    4\n",
       "AGUASCALIENTES             3\n",
       "GUANAJUATO                 2\n",
       "SONORA                     2\n",
       "GUERRERO                   2\n",
       "YUCATAN                    2\n",
       "NAYARIT                    1\n",
       "CHAUTEMPAN                 1\n",
       "PARIS                      1\n",
       "TEXAS                      1\n",
       "FLORIDA                    1\n",
       "USA                        1\n",
       "NEW YORK                   1\n",
       "COMUNIDAD VALENCIANA       1\n",
       "BAJA CALIFORNIA SUR        1\n",
       "MICHOACAN                  1\n",
       "COLIMA                     1\n",
       "TEXCOCO                    1\n",
       "COAHUILA                   1\n",
       "Name: count, dtype: int64"
      ]
     },
     "execution_count": 87,
     "metadata": {},
     "output_type": "execute_result"
    }
   ],
   "source": [
    "i += 1\n",
    "print(f\"Now looking at feature {i}.\")\n",
    "df[df.columns[i]].value_counts()"
   ]
  },
  {
   "cell_type": "markdown",
   "id": "0d26c05a",
   "metadata": {},
   "source": [
    "Perhaps due earlier and already tacitly assumed, but whatever proxy for these I'll use for both the men and women."
   ]
  },
  {
   "cell_type": "code",
   "execution_count": null,
   "id": "000cad61",
   "metadata": {},
   "outputs": [],
   "source": []
  },
  {
   "cell_type": "code",
   "execution_count": null,
   "id": "e3ea5a7e",
   "metadata": {},
   "outputs": [],
   "source": []
  },
  {
   "cell_type": "code",
   "execution_count": 88,
   "id": "f6486528",
   "metadata": {},
   "outputs": [
    {
     "name": "stdout",
     "output_type": "stream",
     "text": [
      "Now looking at feature 26.\n"
     ]
    },
    {
     "data": {
      "text/plain": [
       "residence_country_partner_woman\n",
       "MEXICO            4612\n",
       "ESTADOS UNIDOS       4\n",
       "ESPA√ëA              1\n",
       "FRANCIA              1\n",
       "Name: count, dtype: int64"
      ]
     },
     "execution_count": 88,
     "metadata": {},
     "output_type": "execute_result"
    }
   ],
   "source": [
    "i += 1\n",
    "print(f\"Now looking at feature {i}.\")\n",
    "df[df.columns[i]].value_counts()"
   ]
  },
  {
   "cell_type": "code",
   "execution_count": null,
   "id": "4427d63e",
   "metadata": {},
   "outputs": [],
   "source": []
  },
  {
   "cell_type": "code",
   "execution_count": null,
   "id": "1f71baa3",
   "metadata": {},
   "outputs": [],
   "source": []
  },
  {
   "cell_type": "code",
   "execution_count": 90,
   "id": "8b550dfd",
   "metadata": {},
   "outputs": [
    {
     "name": "stdout",
     "output_type": "stream",
     "text": [
      "Now looking at feature 27.\n"
     ]
    },
    {
     "data": {
      "text/plain": [
       "occupation_partner_woman\n",
       "EMPLEADA              0.434062\n",
       "AMA DE CASA           0.126582\n",
       "LABORES DOMESTICAS    0.074799\n",
       "MAESTRA               0.049482\n",
       "COMERCIANTE           0.040046\n",
       "                        ...   \n",
       "SENADORA              0.000230\n",
       "BANQUERO              0.000230\n",
       "SOCIOLOGA             0.000230\n",
       "MODESTA               0.000230\n",
       "PREPARATORIA          0.000230\n",
       "Name: proportion, Length: 156, dtype: float64"
      ]
     },
     "execution_count": 90,
     "metadata": {},
     "output_type": "execute_result"
    }
   ],
   "source": [
    "# i += 1\n",
    "print(f\"Now looking at feature {i}.\")\n",
    "df[df.columns[i]].value_counts(normalize=True)"
   ]
  },
  {
   "cell_type": "markdown",
   "id": "e98f3ef9",
   "metadata": {},
   "source": [
    "Much more of a spread - unsurprisingly per 'domain knowledge.' Match ups wil be interesting."
   ]
  },
  {
   "cell_type": "code",
   "execution_count": 96,
   "id": "85f5ad23",
   "metadata": {},
   "outputs": [
    {
     "data": {
      "text/plain": [
       "(0.6354430379746836, 0.8324510932105867)"
      ]
     },
     "execution_count": 96,
     "metadata": {},
     "output_type": "execute_result"
    }
   ],
   "source": [
    "sum(df[df.columns[i]].value_counts(normalize=True)[:3]), sum(df[df.columns[i]].value_counts(normalize=True)[:10])"
   ]
  },
  {
   "cell_type": "code",
   "execution_count": 97,
   "id": "f8491e12",
   "metadata": {},
   "outputs": [
    {
     "name": "stdout",
     "output_type": "stream",
     "text": [
      "Now looking at feature 28.\n"
     ]
    },
    {
     "data": {
      "text/plain": [
       "monthly_income_partner_woman_peso\n",
       "5000.0     277\n",
       "6000.0     245\n",
       "4000.0     238\n",
       "3000.0     226\n",
       "10000.0    192\n",
       "          ... \n",
       "75000.0      1\n",
       "5100.0       1\n",
       "1550.0       1\n",
       "1930.0       1\n",
       "29000.0      1\n",
       "Name: count, Length: 188, dtype: int64"
      ]
     },
     "execution_count": 97,
     "metadata": {},
     "output_type": "execute_result"
    }
   ],
   "source": [
    "i += 1\n",
    "print(f\"Now looking at feature {i}.\")\n",
    "df[df.columns[i]].value_counts()"
   ]
  },
  {
   "cell_type": "code",
   "execution_count": null,
   "id": "69bc50be",
   "metadata": {},
   "outputs": [],
   "source": []
  },
  {
   "cell_type": "code",
   "execution_count": null,
   "id": "3424d4a1",
   "metadata": {},
   "outputs": [],
   "source": []
  },
  {
   "cell_type": "code",
   "execution_count": 98,
   "id": "86f4c4f4",
   "metadata": {},
   "outputs": [
    {
     "name": "stdout",
     "output_type": "stream",
     "text": [
      "Now looking at feature 29.\n"
     ]
    },
    {
     "data": {
      "text/plain": [
       "date_of_marriage\n",
       "10/2/00     8\n",
       "11/3/97     7\n",
       "14/12/90    7\n",
       "13/2/01     7\n",
       "8/2/02      7\n",
       "           ..\n",
       "6/1/75      1\n",
       "26/2/82     1\n",
       "27/1/98     1\n",
       "12/12/74    1\n",
       "22/8/09     1\n",
       "Name: count, Length: 3651, dtype: int64"
      ]
     },
     "execution_count": 98,
     "metadata": {},
     "output_type": "execute_result"
    }
   ],
   "source": [
    "i += 1\n",
    "print(f\"Now looking at feature {i}.\")\n",
    "df[df.columns[i]].value_counts()"
   ]
  },
  {
   "cell_type": "markdown",
   "id": "e0e6f834",
   "metadata": {},
   "source": [
    "Oh! What we've been waiting for. In of itself we don't care, but releative to: Man's age, woman's, d"
   ]
  },
  {
   "cell_type": "code",
   "execution_count": null,
   "id": "24dbc339",
   "metadata": {},
   "outputs": [],
   "source": []
  },
  {
   "cell_type": "code",
   "execution_count": null,
   "id": "cca1faae",
   "metadata": {},
   "outputs": [],
   "source": [
    "i += 1\n",
    "print(f\"Now looking at feature {i}.\")\n",
    "df[df.columns[i]].value_counts()"
   ]
  },
  {
   "cell_type": "code",
   "execution_count": null,
   "id": "222b9132",
   "metadata": {},
   "outputs": [],
   "source": []
  },
  {
   "cell_type": "code",
   "execution_count": null,
   "id": "d75c758b",
   "metadata": {},
   "outputs": [],
   "source": []
  },
  {
   "cell_type": "code",
   "execution_count": null,
   "id": "92438381",
   "metadata": {},
   "outputs": [],
   "source": []
  },
  {
   "cell_type": "code",
   "execution_count": null,
   "id": "08475280",
   "metadata": {},
   "outputs": [],
   "source": []
  },
  {
   "cell_type": "code",
   "execution_count": null,
   "id": "d3c0273e",
   "metadata": {},
   "outputs": [],
   "source": []
  },
  {
   "cell_type": "code",
   "execution_count": null,
   "id": "a42651fe",
   "metadata": {},
   "outputs": [],
   "source": []
  },
  {
   "cell_type": "code",
   "execution_count": null,
   "id": "a744e473",
   "metadata": {},
   "outputs": [],
   "source": []
  },
  {
   "cell_type": "code",
   "execution_count": null,
   "id": "4228a967",
   "metadata": {},
   "outputs": [],
   "source": []
  },
  {
   "cell_type": "markdown",
   "id": "963d3f21",
   "metadata": {},
   "source": [
    "Re. check with above whatever feeatures we condensed with men to do the same with women (per 9/3/24 just doing eda essentially)."
   ]
  },
  {
   "cell_type": "markdown",
   "id": "6a6febd1",
   "metadata": {},
   "source": [
    "OHE:\n",
    "\n",
    "type_of_divorce\n",
    "\n",
    "?bucket monthly incomes?\n",
    "\n",
    "occupation\n"
   ]
  },
  {
   "cell_type": "markdown",
   "id": "0bf409b6",
   "metadata": {},
   "source": [
    "Fix: Men's employment..."
   ]
  }
 ],
 "metadata": {
  "kernelspec": {
   "display_name": "Python 3 (ipykernel)",
   "language": "python",
   "name": "python3"
  },
  "language_info": {
   "codemirror_mode": {
    "name": "ipython",
    "version": 3
   },
   "file_extension": ".py",
   "mimetype": "text/x-python",
   "name": "python",
   "nbconvert_exporter": "python",
   "pygments_lexer": "ipython3",
   "version": "3.11.5"
  }
 },
 "nbformat": 4,
 "nbformat_minor": 5
}
