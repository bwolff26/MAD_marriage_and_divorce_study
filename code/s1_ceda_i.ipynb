{
 "cells": [
  {
   "cell_type": "markdown",
   "id": "afb0c9c0",
   "metadata": {},
   "source": [
    "Now, let's finally look at that divorced dataset."
   ]
  },
  {
   "cell_type": "code",
   "execution_count": 1,
   "id": "e994a9b9",
   "metadata": {},
   "outputs": [],
   "source": [
    "import pandas as pd\n",
    "import numpy as np\n",
    "import matplotlib.pyplot as plt\n",
    "import seaborn as sns"
   ]
  },
  {
   "cell_type": "code",
   "execution_count": 2,
   "id": "8d141626",
   "metadata": {},
   "outputs": [
    {
     "name": "stdout",
     "output_type": "stream",
     "text": [
      "(4923, 41)\n"
     ]
    },
    {
     "data": {
      "text/html": [
       "<div>\n",
       "<style scoped>\n",
       "    .dataframe tbody tr th:only-of-type {\n",
       "        vertical-align: middle;\n",
       "    }\n",
       "\n",
       "    .dataframe tbody tr th {\n",
       "        vertical-align: top;\n",
       "    }\n",
       "\n",
       "    .dataframe thead th {\n",
       "        text-align: right;\n",
       "    }\n",
       "</style>\n",
       "<table border=\"1\" class=\"dataframe\">\n",
       "  <thead>\n",
       "    <tr style=\"text-align: right;\">\n",
       "      <th></th>\n",
       "      <th>divorce_date</th>\n",
       "      <th>type_of_divorce</th>\n",
       "      <th>nationality_partner_man</th>\n",
       "      <th>dob_partner_man</th>\n",
       "      <th>place_of_birth_partner_man</th>\n",
       "      <th>birth_municipality_of_partner_man</th>\n",
       "      <th>birth_federal_partner_man</th>\n",
       "      <th>birth_country_partner_man</th>\n",
       "      <th>age_partner_man</th>\n",
       "      <th>residence_municipality_partner_man</th>\n",
       "      <th>...</th>\n",
       "      <th>marriage_certificate_municipality</th>\n",
       "      <th>marriage_certificate_federal</th>\n",
       "      <th>level_of_education_partner_man</th>\n",
       "      <th>employment_status_partner_man</th>\n",
       "      <th>level_of_education_partner_woman</th>\n",
       "      <th>employment_status_partner_woman</th>\n",
       "      <th>marriage_duration</th>\n",
       "      <th>marriage_duration_months</th>\n",
       "      <th>num_children</th>\n",
       "      <th>custody</th>\n",
       "    </tr>\n",
       "  </thead>\n",
       "  <tbody>\n",
       "    <tr>\n",
       "      <th>0</th>\n",
       "      <td>9/6/06</td>\n",
       "      <td>Necesario</td>\n",
       "      <td>MEXICANA</td>\n",
       "      <td>18/12/75</td>\n",
       "      <td>XALAPA - ENRIQUEZ</td>\n",
       "      <td>XALAPA</td>\n",
       "      <td>VERACRUZ</td>\n",
       "      <td>MEXICO</td>\n",
       "      <td>30.0</td>\n",
       "      <td>XALAPA</td>\n",
       "      <td>...</td>\n",
       "      <td>XALAPA</td>\n",
       "      <td>VERACRUZ</td>\n",
       "      <td>SECUNDARIA</td>\n",
       "      <td>OBRERO</td>\n",
       "      <td>SECUNDARIA</td>\n",
       "      <td>EMPLEADO</td>\n",
       "      <td>5.0</td>\n",
       "      <td>NaN</td>\n",
       "      <td>1.0</td>\n",
       "      <td>NaN</td>\n",
       "    </tr>\n",
       "    <tr>\n",
       "      <th>1</th>\n",
       "      <td>1/2/00</td>\n",
       "      <td>Voluntario</td>\n",
       "      <td>MEXICANA</td>\n",
       "      <td>NaN</td>\n",
       "      <td>NaN</td>\n",
       "      <td>NaN</td>\n",
       "      <td>NaN</td>\n",
       "      <td>NaN</td>\n",
       "      <td>47.0</td>\n",
       "      <td>NaN</td>\n",
       "      <td>...</td>\n",
       "      <td>XALAPA</td>\n",
       "      <td>VERACRUZ</td>\n",
       "      <td>PREPARATORIA</td>\n",
       "      <td>ESTABLECIMIENTO</td>\n",
       "      <td>PREPARATORIA</td>\n",
       "      <td>EMPLEADO</td>\n",
       "      <td>NaN</td>\n",
       "      <td>NaN</td>\n",
       "      <td>NaN</td>\n",
       "      <td>NaN</td>\n",
       "    </tr>\n",
       "    <tr>\n",
       "      <th>2</th>\n",
       "      <td>1/2/05</td>\n",
       "      <td>Necesario</td>\n",
       "      <td>MEXICANA</td>\n",
       "      <td>22/2/55</td>\n",
       "      <td>XALAPA - ENRIQUEZ</td>\n",
       "      <td>XALAPA</td>\n",
       "      <td>VERACRUZ</td>\n",
       "      <td>MEXICO</td>\n",
       "      <td>49.0</td>\n",
       "      <td>NaN</td>\n",
       "      <td>...</td>\n",
       "      <td>XALAPA</td>\n",
       "      <td>VERACRUZ</td>\n",
       "      <td>PREPARATORIA</td>\n",
       "      <td>OBRERO</td>\n",
       "      <td>NaN</td>\n",
       "      <td>TRABAJADOR POR CUENTA PROPIA EN VIA PUBLICA</td>\n",
       "      <td>NaN</td>\n",
       "      <td>NaN</td>\n",
       "      <td>NaN</td>\n",
       "      <td>NaN</td>\n",
       "    </tr>\n",
       "    <tr>\n",
       "      <th>3</th>\n",
       "      <td>1/2/06</td>\n",
       "      <td>Necesario</td>\n",
       "      <td>MEXICANA</td>\n",
       "      <td>20/1/64</td>\n",
       "      <td>XALAPA - ENRIQUEZ</td>\n",
       "      <td>XALAPA</td>\n",
       "      <td>VERACRUZ</td>\n",
       "      <td>MEXICO</td>\n",
       "      <td>42.0</td>\n",
       "      <td>XALAPA</td>\n",
       "      <td>...</td>\n",
       "      <td>XALAPA</td>\n",
       "      <td>VERACRUZ</td>\n",
       "      <td>PROFESIONAL</td>\n",
       "      <td>EMPLEADO</td>\n",
       "      <td>PREPARATORIA</td>\n",
       "      <td>EMPLEADO</td>\n",
       "      <td>18.0</td>\n",
       "      <td>NaN</td>\n",
       "      <td>2.0</td>\n",
       "      <td>MADRE</td>\n",
       "    </tr>\n",
       "    <tr>\n",
       "      <th>4</th>\n",
       "      <td>1/2/06</td>\n",
       "      <td>Necesario</td>\n",
       "      <td>MEXICANA</td>\n",
       "      <td>30/10/75</td>\n",
       "      <td>XALAPA - ENRIQUEZ</td>\n",
       "      <td>XALAPA</td>\n",
       "      <td>VERACRUZ</td>\n",
       "      <td>MEXICO</td>\n",
       "      <td>30.0</td>\n",
       "      <td>COATEPEC</td>\n",
       "      <td>...</td>\n",
       "      <td>XALAPA</td>\n",
       "      <td>VERACRUZ</td>\n",
       "      <td>PROFESIONAL</td>\n",
       "      <td>EMPLEADO</td>\n",
       "      <td>PREPARATORIA</td>\n",
       "      <td>NO TRABAJA</td>\n",
       "      <td>7.0</td>\n",
       "      <td>NaN</td>\n",
       "      <td>2.0</td>\n",
       "      <td>MADRE</td>\n",
       "    </tr>\n",
       "  </tbody>\n",
       "</table>\n",
       "<p>5 rows × 41 columns</p>\n",
       "</div>"
      ],
      "text/plain": [
       "  divorce_date type_of_divorce nationality_partner_man dob_partner_man  \\\n",
       "0       9/6/06       Necesario                MEXICANA        18/12/75   \n",
       "1       1/2/00      Voluntario                MEXICANA             NaN   \n",
       "2       1/2/05       Necesario                MEXICANA         22/2/55   \n",
       "3       1/2/06       Necesario                MEXICANA         20/1/64   \n",
       "4       1/2/06       Necesario                MEXICANA        30/10/75   \n",
       "\n",
       "  place_of_birth_partner_man birth_municipality_of_partner_man  \\\n",
       "0          XALAPA - ENRIQUEZ                            XALAPA   \n",
       "1                        NaN                               NaN   \n",
       "2          XALAPA - ENRIQUEZ                            XALAPA   \n",
       "3          XALAPA - ENRIQUEZ                            XALAPA   \n",
       "4          XALAPA - ENRIQUEZ                            XALAPA   \n",
       "\n",
       "  birth_federal_partner_man birth_country_partner_man  age_partner_man  \\\n",
       "0                  VERACRUZ                    MEXICO             30.0   \n",
       "1                       NaN                       NaN             47.0   \n",
       "2                  VERACRUZ                    MEXICO             49.0   \n",
       "3                  VERACRUZ                    MEXICO             42.0   \n",
       "4                  VERACRUZ                    MEXICO             30.0   \n",
       "\n",
       "  residence_municipality_partner_man  ... marriage_certificate_municipality  \\\n",
       "0                             XALAPA  ...                            XALAPA   \n",
       "1                                NaN  ...                            XALAPA   \n",
       "2                                NaN  ...                            XALAPA   \n",
       "3                             XALAPA  ...                            XALAPA   \n",
       "4                           COATEPEC  ...                            XALAPA   \n",
       "\n",
       "  marriage_certificate_federal  level_of_education_partner_man  \\\n",
       "0                     VERACRUZ                      SECUNDARIA   \n",
       "1                     VERACRUZ                    PREPARATORIA   \n",
       "2                     VERACRUZ                    PREPARATORIA   \n",
       "3                     VERACRUZ                     PROFESIONAL   \n",
       "4                     VERACRUZ                     PROFESIONAL   \n",
       "\n",
       "  employment_status_partner_man level_of_education_partner_woman  \\\n",
       "0                        OBRERO                       SECUNDARIA   \n",
       "1               ESTABLECIMIENTO                     PREPARATORIA   \n",
       "2                        OBRERO                              NaN   \n",
       "3                      EMPLEADO                     PREPARATORIA   \n",
       "4                      EMPLEADO                     PREPARATORIA   \n",
       "\n",
       "                employment_status_partner_woman marriage_duration  \\\n",
       "0                                      EMPLEADO               5.0   \n",
       "1                                      EMPLEADO               NaN   \n",
       "2  TRABAJADOR POR CUENTA PROPIA EN VIA PUBLICA                NaN   \n",
       "3                                      EMPLEADO              18.0   \n",
       "4                                    NO TRABAJA               7.0   \n",
       "\n",
       "  marriage_duration_months num_children custody  \n",
       "0                      NaN          1.0     NaN  \n",
       "1                      NaN          NaN     NaN  \n",
       "2                      NaN          NaN     NaN  \n",
       "3                      NaN          2.0   MADRE  \n",
       "4                      NaN          2.0   MADRE  \n",
       "\n",
       "[5 rows x 41 columns]"
      ]
     },
     "execution_count": 2,
     "metadata": {},
     "output_type": "execute_result"
    }
   ],
   "source": [
    "df = pd.read_csv('../data/divorces_2000-2015_translated.csv')\n",
    "print(df.shape)\n",
    "df.columns = df.columns.str.lower()\n",
    "df.columns = df.columns.str.replace(' ', '_')\n",
    "df.columns = df.columns.str.replace('.', '')\n",
    "df.head()"
   ]
  },
  {
   "cell_type": "markdown",
   "id": "5ef0bafb",
   "metadata": {},
   "source": [
    "Yeah, once again we need to do a lot of sprucing. We'll definitely err on the side of making things as simple as possible."
   ]
  },
  {
   "cell_type": "code",
   "execution_count": 3,
   "id": "a49f0ba2",
   "metadata": {},
   "outputs": [
    {
     "data": {
      "text/plain": [
       "marriage_duration_months               3368\n",
       "custody                                2851\n",
       "dob_registration_date_partner_woman    2679\n",
       "monthly_income_partner_woman_peso      2119\n",
       "num_children                           1912\n",
       "monthly_income_partner_man_peso        1419\n",
       "occupation_partner_woman                578\n",
       "occupation_partner_man                  529\n",
       "dob_partner_woman                       452\n",
       "employment_status_partner_woman         417\n",
       "dob_partner_man                         381\n",
       "level_of_education_partner_woman        380\n",
       "employment_status_partner_man           356\n",
       "residence_municipality_partner_man      324\n",
       "residence_country_partner_man           324\n",
       "dtype: int64"
      ]
     },
     "execution_count": 3,
     "metadata": {},
     "output_type": "execute_result"
    }
   ],
   "source": [
    "df.isna().sum().sort_values(ascending=False)[:15]"
   ]
  },
  {
   "cell_type": "markdown",
   "id": "a54374bb",
   "metadata": {},
   "source": [
    "Oh my, that's quite a lot of nulls. But, let us deal with each feature as we get around to it. Especially when our target is either the duration or the type..."
   ]
  },
  {
   "cell_type": "code",
   "execution_count": 4,
   "id": "66db23fb",
   "metadata": {},
   "outputs": [],
   "source": [
    " i = 0"
   ]
  },
  {
   "cell_type": "code",
   "execution_count": 5,
   "id": "2b3d1069",
   "metadata": {},
   "outputs": [
    {
     "data": {
      "text/plain": [
       "divorce_date\n",
       "9/10/09     9\n",
       "5/9/05      8\n",
       "25/2/09     8\n",
       "21/11/03    8\n",
       "3/11/04     8\n",
       "           ..\n",
       "8/10/13     1\n",
       "8/10/14     1\n",
       "8/11/01     1\n",
       "8/11/06     1\n",
       "31/12/13    1\n",
       "Name: count, Length: 2596, dtype: int64"
      ]
     },
     "execution_count": 5,
     "metadata": {},
     "output_type": "execute_result"
    }
   ],
   "source": [
    "df[df.columns[i]].value_counts() #Yeah, we don't care about this... way too detailed for our purposes. Do note though\n",
    "#the range of them"
   ]
  },
  {
   "cell_type": "code",
   "execution_count": 6,
   "id": "6397025d",
   "metadata": {},
   "outputs": [
    {
     "data": {
      "text/plain": [
       "('1/10/01', '9/9/14')"
      ]
     },
     "execution_count": 6,
     "metadata": {},
     "output_type": "execute_result"
    }
   ],
   "source": [
    "min(df['divorce_date']), max(df['divorce_date'])"
   ]
  },
  {
   "cell_type": "code",
   "execution_count": 7,
   "id": "96de40ae",
   "metadata": {},
   "outputs": [
    {
     "name": "stdout",
     "output_type": "stream",
     "text": [
      "Next up to be deleted is divorce_date and now we're poised to delete a total of 1 from our dataframe.\n"
     ]
    }
   ],
   "source": [
    "to_be_deleted = []\n",
    "\n",
    "to_be_deleted.append(df.columns[i])\n",
    "print(f\"Next up to be deleted is {df.columns[i]} and now we're poised to delete a total of {len(to_be_deleted)} from our dataframe.\")"
   ]
  },
  {
   "cell_type": "code",
   "execution_count": 8,
   "id": "cc12d904",
   "metadata": {},
   "outputs": [
    {
     "data": {
      "text/plain": [
       "type_of_divorce\n",
       "Necesario     2528\n",
       "Voluntario    2395\n",
       "Name: count, dtype: int64"
      ]
     },
     "execution_count": 8,
     "metadata": {},
     "output_type": "execute_result"
    }
   ],
   "source": [
    "i += 1\n",
    "df[df.columns[i]].value_counts()"
   ]
  },
  {
   "cell_type": "markdown",
   "id": "02ee7c23",
   "metadata": {},
   "source": [
    "Guess we'll worry about one-hot-encodng later.\n",
    "\n",
    "Pragmatically, I'd assume Necesario should be 0. Ie the type of scenario we'd ideally like to avoid, but relatively 'better' than the alternative (in short...)."
   ]
  },
  {
   "cell_type": "code",
   "execution_count": 9,
   "id": "29a7b6d3",
   "metadata": {},
   "outputs": [
    {
     "data": {
      "text/plain": [
       "nationality_partner_man\n",
       "MEXICANA          4879\n",
       "CUBANA               8\n",
       "ESTADOUNIDENSE       7\n",
       "ESPA√ëOLA            6\n",
       "ARGENTINA            4\n",
       "FRANCESA             2\n",
       "CANADIENSE           2\n",
       "ALEMANA              2\n",
       "VENEZOLANA           2\n",
       "JAPONESA             1\n",
       "AUSTRALIANA          1\n",
       "POLACA               1\n",
       "CHINA                1\n",
       "ITALIANA             1\n",
       "CHILENA              1\n",
       "COSTARRICENSE        1\n",
       "AUSTRIACA            1\n",
       "COLOMBIANA           1\n",
       "NICARAGUENSE         1\n",
       "Name: count, dtype: int64"
      ]
     },
     "execution_count": 9,
     "metadata": {},
     "output_type": "execute_result"
    }
   ],
   "source": [
    "i += 1\n",
    "df[df.columns[i]].value_counts()"
   ]
  },
  {
   "cell_type": "markdown",
   "id": "0d924275",
   "metadata": {},
   "source": [
    "Yeah, we'll simplify this to mexican/not. Although we'd be interested to see a mexican of any type with a non, we're also interested in a case where neither are mexican yet are still living there (if it occurs in this dataset)."
   ]
  },
  {
   "cell_type": "code",
   "execution_count": 10,
   "id": "ff312574",
   "metadata": {},
   "outputs": [],
   "source": [
    "df[df.columns[i]] = df[df.columns[i]].apply(lambda x: 0 if x == 'MEXICANA' else 1)"
   ]
  },
  {
   "cell_type": "code",
   "execution_count": 11,
   "id": "83fd0841",
   "metadata": {},
   "outputs": [
    {
     "data": {
      "text/html": [
       "<div>\n",
       "<style scoped>\n",
       "    .dataframe tbody tr th:only-of-type {\n",
       "        vertical-align: middle;\n",
       "    }\n",
       "\n",
       "    .dataframe tbody tr th {\n",
       "        vertical-align: top;\n",
       "    }\n",
       "\n",
       "    .dataframe thead th {\n",
       "        text-align: right;\n",
       "    }\n",
       "</style>\n",
       "<table border=\"1\" class=\"dataframe\">\n",
       "  <thead>\n",
       "    <tr style=\"text-align: right;\">\n",
       "      <th></th>\n",
       "      <th>divorce_date</th>\n",
       "      <th>type_of_divorce</th>\n",
       "      <th>nationality_partner_man</th>\n",
       "      <th>dob_partner_man</th>\n",
       "      <th>place_of_birth_partner_man</th>\n",
       "      <th>birth_municipality_of_partner_man</th>\n",
       "      <th>birth_federal_partner_man</th>\n",
       "      <th>birth_country_partner_man</th>\n",
       "      <th>age_partner_man</th>\n",
       "      <th>residence_municipality_partner_man</th>\n",
       "      <th>...</th>\n",
       "      <th>marriage_certificate_municipality</th>\n",
       "      <th>marriage_certificate_federal</th>\n",
       "      <th>level_of_education_partner_man</th>\n",
       "      <th>employment_status_partner_man</th>\n",
       "      <th>level_of_education_partner_woman</th>\n",
       "      <th>employment_status_partner_woman</th>\n",
       "      <th>marriage_duration</th>\n",
       "      <th>marriage_duration_months</th>\n",
       "      <th>num_children</th>\n",
       "      <th>custody</th>\n",
       "    </tr>\n",
       "  </thead>\n",
       "  <tbody>\n",
       "    <tr>\n",
       "      <th>0</th>\n",
       "      <td>9/6/06</td>\n",
       "      <td>Necesario</td>\n",
       "      <td>0</td>\n",
       "      <td>18/12/75</td>\n",
       "      <td>XALAPA - ENRIQUEZ</td>\n",
       "      <td>XALAPA</td>\n",
       "      <td>VERACRUZ</td>\n",
       "      <td>MEXICO</td>\n",
       "      <td>30.0</td>\n",
       "      <td>XALAPA</td>\n",
       "      <td>...</td>\n",
       "      <td>XALAPA</td>\n",
       "      <td>VERACRUZ</td>\n",
       "      <td>SECUNDARIA</td>\n",
       "      <td>OBRERO</td>\n",
       "      <td>SECUNDARIA</td>\n",
       "      <td>EMPLEADO</td>\n",
       "      <td>5.0</td>\n",
       "      <td>NaN</td>\n",
       "      <td>1.0</td>\n",
       "      <td>NaN</td>\n",
       "    </tr>\n",
       "    <tr>\n",
       "      <th>1</th>\n",
       "      <td>1/2/00</td>\n",
       "      <td>Voluntario</td>\n",
       "      <td>0</td>\n",
       "      <td>NaN</td>\n",
       "      <td>NaN</td>\n",
       "      <td>NaN</td>\n",
       "      <td>NaN</td>\n",
       "      <td>NaN</td>\n",
       "      <td>47.0</td>\n",
       "      <td>NaN</td>\n",
       "      <td>...</td>\n",
       "      <td>XALAPA</td>\n",
       "      <td>VERACRUZ</td>\n",
       "      <td>PREPARATORIA</td>\n",
       "      <td>ESTABLECIMIENTO</td>\n",
       "      <td>PREPARATORIA</td>\n",
       "      <td>EMPLEADO</td>\n",
       "      <td>NaN</td>\n",
       "      <td>NaN</td>\n",
       "      <td>NaN</td>\n",
       "      <td>NaN</td>\n",
       "    </tr>\n",
       "    <tr>\n",
       "      <th>2</th>\n",
       "      <td>1/2/05</td>\n",
       "      <td>Necesario</td>\n",
       "      <td>0</td>\n",
       "      <td>22/2/55</td>\n",
       "      <td>XALAPA - ENRIQUEZ</td>\n",
       "      <td>XALAPA</td>\n",
       "      <td>VERACRUZ</td>\n",
       "      <td>MEXICO</td>\n",
       "      <td>49.0</td>\n",
       "      <td>NaN</td>\n",
       "      <td>...</td>\n",
       "      <td>XALAPA</td>\n",
       "      <td>VERACRUZ</td>\n",
       "      <td>PREPARATORIA</td>\n",
       "      <td>OBRERO</td>\n",
       "      <td>NaN</td>\n",
       "      <td>TRABAJADOR POR CUENTA PROPIA EN VIA PUBLICA</td>\n",
       "      <td>NaN</td>\n",
       "      <td>NaN</td>\n",
       "      <td>NaN</td>\n",
       "      <td>NaN</td>\n",
       "    </tr>\n",
       "    <tr>\n",
       "      <th>3</th>\n",
       "      <td>1/2/06</td>\n",
       "      <td>Necesario</td>\n",
       "      <td>0</td>\n",
       "      <td>20/1/64</td>\n",
       "      <td>XALAPA - ENRIQUEZ</td>\n",
       "      <td>XALAPA</td>\n",
       "      <td>VERACRUZ</td>\n",
       "      <td>MEXICO</td>\n",
       "      <td>42.0</td>\n",
       "      <td>XALAPA</td>\n",
       "      <td>...</td>\n",
       "      <td>XALAPA</td>\n",
       "      <td>VERACRUZ</td>\n",
       "      <td>PROFESIONAL</td>\n",
       "      <td>EMPLEADO</td>\n",
       "      <td>PREPARATORIA</td>\n",
       "      <td>EMPLEADO</td>\n",
       "      <td>18.0</td>\n",
       "      <td>NaN</td>\n",
       "      <td>2.0</td>\n",
       "      <td>MADRE</td>\n",
       "    </tr>\n",
       "    <tr>\n",
       "      <th>4</th>\n",
       "      <td>1/2/06</td>\n",
       "      <td>Necesario</td>\n",
       "      <td>0</td>\n",
       "      <td>30/10/75</td>\n",
       "      <td>XALAPA - ENRIQUEZ</td>\n",
       "      <td>XALAPA</td>\n",
       "      <td>VERACRUZ</td>\n",
       "      <td>MEXICO</td>\n",
       "      <td>30.0</td>\n",
       "      <td>COATEPEC</td>\n",
       "      <td>...</td>\n",
       "      <td>XALAPA</td>\n",
       "      <td>VERACRUZ</td>\n",
       "      <td>PROFESIONAL</td>\n",
       "      <td>EMPLEADO</td>\n",
       "      <td>PREPARATORIA</td>\n",
       "      <td>NO TRABAJA</td>\n",
       "      <td>7.0</td>\n",
       "      <td>NaN</td>\n",
       "      <td>2.0</td>\n",
       "      <td>MADRE</td>\n",
       "    </tr>\n",
       "  </tbody>\n",
       "</table>\n",
       "<p>5 rows × 41 columns</p>\n",
       "</div>"
      ],
      "text/plain": [
       "  divorce_date type_of_divorce  nationality_partner_man dob_partner_man  \\\n",
       "0       9/6/06       Necesario                        0        18/12/75   \n",
       "1       1/2/00      Voluntario                        0             NaN   \n",
       "2       1/2/05       Necesario                        0         22/2/55   \n",
       "3       1/2/06       Necesario                        0         20/1/64   \n",
       "4       1/2/06       Necesario                        0        30/10/75   \n",
       "\n",
       "  place_of_birth_partner_man birth_municipality_of_partner_man  \\\n",
       "0          XALAPA - ENRIQUEZ                            XALAPA   \n",
       "1                        NaN                               NaN   \n",
       "2          XALAPA - ENRIQUEZ                            XALAPA   \n",
       "3          XALAPA - ENRIQUEZ                            XALAPA   \n",
       "4          XALAPA - ENRIQUEZ                            XALAPA   \n",
       "\n",
       "  birth_federal_partner_man birth_country_partner_man  age_partner_man  \\\n",
       "0                  VERACRUZ                    MEXICO             30.0   \n",
       "1                       NaN                       NaN             47.0   \n",
       "2                  VERACRUZ                    MEXICO             49.0   \n",
       "3                  VERACRUZ                    MEXICO             42.0   \n",
       "4                  VERACRUZ                    MEXICO             30.0   \n",
       "\n",
       "  residence_municipality_partner_man  ... marriage_certificate_municipality  \\\n",
       "0                             XALAPA  ...                            XALAPA   \n",
       "1                                NaN  ...                            XALAPA   \n",
       "2                                NaN  ...                            XALAPA   \n",
       "3                             XALAPA  ...                            XALAPA   \n",
       "4                           COATEPEC  ...                            XALAPA   \n",
       "\n",
       "  marriage_certificate_federal  level_of_education_partner_man  \\\n",
       "0                     VERACRUZ                      SECUNDARIA   \n",
       "1                     VERACRUZ                    PREPARATORIA   \n",
       "2                     VERACRUZ                    PREPARATORIA   \n",
       "3                     VERACRUZ                     PROFESIONAL   \n",
       "4                     VERACRUZ                     PROFESIONAL   \n",
       "\n",
       "  employment_status_partner_man level_of_education_partner_woman  \\\n",
       "0                        OBRERO                       SECUNDARIA   \n",
       "1               ESTABLECIMIENTO                     PREPARATORIA   \n",
       "2                        OBRERO                              NaN   \n",
       "3                      EMPLEADO                     PREPARATORIA   \n",
       "4                      EMPLEADO                     PREPARATORIA   \n",
       "\n",
       "                employment_status_partner_woman marriage_duration  \\\n",
       "0                                      EMPLEADO               5.0   \n",
       "1                                      EMPLEADO               NaN   \n",
       "2  TRABAJADOR POR CUENTA PROPIA EN VIA PUBLICA                NaN   \n",
       "3                                      EMPLEADO              18.0   \n",
       "4                                    NO TRABAJA               7.0   \n",
       "\n",
       "  marriage_duration_months num_children custody  \n",
       "0                      NaN          1.0     NaN  \n",
       "1                      NaN          NaN     NaN  \n",
       "2                      NaN          NaN     NaN  \n",
       "3                      NaN          2.0   MADRE  \n",
       "4                      NaN          2.0   MADRE  \n",
       "\n",
       "[5 rows x 41 columns]"
      ]
     },
     "execution_count": 11,
     "metadata": {},
     "output_type": "execute_result"
    }
   ],
   "source": [
    "df.head()"
   ]
  },
  {
   "cell_type": "code",
   "execution_count": 12,
   "id": "89f81dbd",
   "metadata": {},
   "outputs": [
    {
     "name": "stdout",
     "output_type": "stream",
     "text": [
      "Now looking at feature 3.\n"
     ]
    },
    {
     "data": {
      "text/plain": [
       "dob_partner_man\n",
       "25/5/73     5\n",
       "5/4/74      5\n",
       "17/3/75     4\n",
       "23/4/74     4\n",
       "2/8/61      4\n",
       "           ..\n",
       "1/10/72     1\n",
       "19/6/68     1\n",
       "5/3/70      1\n",
       "20/12/77    1\n",
       "7/2/58      1\n",
       "Name: count, Length: 3848, dtype: int64"
      ]
     },
     "execution_count": 12,
     "metadata": {},
     "output_type": "execute_result"
    }
   ],
   "source": [
    "i += 1\n",
    "print(f\"Now looking at feature {i}.\")\n",
    "df[df.columns[i]].value_counts()"
   ]
  },
  {
   "cell_type": "markdown",
   "id": "a2a71cff",
   "metadata": {},
   "source": [
    "Hmm, potentially let us simplify.... Oh wait, I just ealized - I want to example their relative ages.Hence, I'd need tha divocre data ultimately.... we'll keep on going for now though."
   ]
  },
  {
   "cell_type": "code",
   "execution_count": 13,
   "id": "d2ac1034",
   "metadata": {},
   "outputs": [
    {
     "name": "stdout",
     "output_type": "stream",
     "text": [
      "Now looking at feature 4.\n"
     ]
    },
    {
     "data": {
      "text/plain": [
       "place_of_birth_partner_man\n",
       "XALAPA - ENRIQUEZ    2472\n",
       "DISTRITO FEDERAL      347\n",
       "VERACRUZ              129\n",
       "COATEPEC               68\n",
       "POZA RICA              49\n",
       "                     ... \n",
       "ANTONIO HIDALGO         1\n",
       "ESPARTACO               1\n",
       "AHUACATAN               1\n",
       "SAN PABLO COAPAN        1\n",
       "EL LIMON                1\n",
       "Name: count, Length: 669, dtype: int64"
      ]
     },
     "execution_count": 13,
     "metadata": {},
     "output_type": "execute_result"
    }
   ],
   "source": [
    "i += 1\n",
    "print(f\"Now looking at feature {i}.\")\n",
    "df[df.columns[i]].value_counts()"
   ]
  },
  {
   "cell_type": "markdown",
   "id": "0b6cf111",
   "metadata": {},
   "source": [
    "Yeah, we're simplifyng this. Let the cut off be 10 (beyond the scope to comment here why I'm chosing that number)."
   ]
  },
  {
   "cell_type": "code",
   "execution_count": 14,
   "id": "31091bbd",
   "metadata": {},
   "outputs": [
    {
     "name": "stdout",
     "output_type": "stream",
     "text": [
      "Next up to be deleted is place_of_birth_partner_man and now we're poised to delete a total of 2 from our dataframe.\n"
     ]
    }
   ],
   "source": [
    "to_be_deleted.append(df.columns[i])\n",
    "print(f\"Next up to be deleted is {df.columns[i]} and now we're poised to delete a total of {len(to_be_deleted)} from our dataframe.\")"
   ]
  },
  {
   "cell_type": "code",
   "execution_count": 15,
   "id": "6e606a9f",
   "metadata": {},
   "outputs": [
    {
     "name": "stdout",
     "output_type": "stream",
     "text": [
      "Now looking at feature 5.\n"
     ]
    },
    {
     "data": {
      "text/plain": [
       "birth_municipality_of_partner_man\n",
       "XALAPA                   2479\n",
       "DISTRITO FEDERAL          348\n",
       "VERACRUZ                  131\n",
       "COATEPEC                   78\n",
       "MARTINEZ DE LA TORRE       60\n",
       "                         ... \n",
       "PATZCUARO                   1\n",
       "TOPILITOS DE ZARAGOZA       1\n",
       "TULA DE ALLENDE             1\n",
       "PARRAL                      1\n",
       "ZAUTLA                      1\n",
       "Name: count, Length: 424, dtype: int64"
      ]
     },
     "execution_count": 15,
     "metadata": {},
     "output_type": "execute_result"
    }
   ],
   "source": [
    "i += 1\n",
    "print(f\"Now looking at feature {i}.\")\n",
    "df[df.columns[i]].value_counts()"
   ]
  },
  {
   "cell_type": "markdown",
   "id": "cbc1c46b",
   "metadata": {},
   "source": [
    "Somehow different??? A bit tempted to delete as a quick scan shows barely any differencs. However, this seems more inclusive so I'll go with this (424 vs. 669)."
   ]
  },
  {
   "cell_type": "code",
   "execution_count": 16,
   "id": "fe485a0c",
   "metadata": {},
   "outputs": [
    {
     "data": {
      "text/plain": [
       "['XALAPA',\n",
       " 'DISTRITO FEDERAL',\n",
       " 'VERACRUZ',\n",
       " 'COATEPEC',\n",
       " 'MARTINEZ DE LA TORRE',\n",
       " 'MISANTLA',\n",
       " 'POZA RICA',\n",
       " 'ORIZABA',\n",
       " 'CORDOBA']"
      ]
     },
     "execution_count": 16,
     "metadata": {},
     "output_type": "execute_result"
    }
   ],
   "source": [
    "list(df[df.columns[i]].value_counts(normalize=True)[:9].index)"
   ]
  },
  {
   "cell_type": "code",
   "execution_count": 17,
   "id": "635ffaed",
   "metadata": {},
   "outputs": [
    {
     "name": "stdout",
     "output_type": "stream",
     "text": [
      "0.6846057571964955\n"
     ]
    }
   ],
   "source": [
    "print(sum(df[df.columns[i]].value_counts(normalize=True)[:9]))"
   ]
  },
  {
   "cell_type": "code",
   "execution_count": 18,
   "id": "917a6eb9",
   "metadata": {},
   "outputs": [],
   "source": [
    "#I feel like I had a neat code to do this. Oh Well.\n",
    "\n",
    "feature_keepers = list(df[df.columns[i]].value_counts(normalize=True)[:9].index)\n",
    "\n",
    "#Somewhat arbitrarily chosen, but eh. After like 7 they have such a small amount... Will simplify.\n",
    "\n",
    "df[df.columns[i]] = [\"OTHER\" if i not in feature_keepers  else i for i in df[df.columns[i]]]"
   ]
  },
  {
   "cell_type": "code",
   "execution_count": null,
   "id": "fe8fa60f",
   "metadata": {},
   "outputs": [],
   "source": []
  },
  {
   "cell_type": "code",
   "execution_count": 19,
   "id": "bd4b5fc0",
   "metadata": {},
   "outputs": [
    {
     "name": "stdout",
     "output_type": "stream",
     "text": [
      "Now looking at feature 6.\n"
     ]
    },
    {
     "data": {
      "text/plain": [
       "birth_federal_partner_man\n",
       "VERACRUZ              3920\n",
       "DISTRITO FEDERAL       403\n",
       "PUEBLA                 111\n",
       "TAMAULIPAS              33\n",
       "OAXACA                  30\n",
       "                      ... \n",
       "EL SALVADOR              1\n",
       "GALICIA                  1\n",
       "MISSOURI                 1\n",
       "CAMAG√úEY                1\n",
       "NORTE DE SANTANDER       1\n",
       "Name: count, Length: 76, dtype: int64"
      ]
     },
     "execution_count": 19,
     "metadata": {},
     "output_type": "execute_result"
    }
   ],
   "source": [
    "i += 1\n",
    "print(f\"Now looking at feature {i}.\")\n",
    "df[df.columns[i]].value_counts()"
   ]
  },
  {
   "cell_type": "markdown",
   "id": "46b5affa",
   "metadata": {},
   "source": [
    "Similar to the other.... We might as well keep it Especially since we're condensing. This time we'll simplify it to Puebla than 'Other' as they don' even have 100..."
   ]
  },
  {
   "cell_type": "code",
   "execution_count": 20,
   "id": "53878c7e",
   "metadata": {},
   "outputs": [],
   "source": [
    "feature_keepers = list(df[df.columns[i]].value_counts(normalize=True)[:3].index)\n",
    "df[df.columns[i]] = [\"OTHER\" if i not in feature_keepers  else i for i in df[df.columns[i]]]"
   ]
  },
  {
   "cell_type": "code",
   "execution_count": 21,
   "id": "f83fc794",
   "metadata": {},
   "outputs": [
    {
     "name": "stdout",
     "output_type": "stream",
     "text": [
      "Now looking at feature 7.\n"
     ]
    },
    {
     "data": {
      "text/plain": [
       "birth_country_partner_man\n",
       "MEXICO                       4748\n",
       "CUBA                            8\n",
       "ESPA√ëA                         8\n",
       "ESTADOS UNIDOS DE AMERICA       6\n",
       "ARGENTINA                       3\n",
       "COLOMBIA                        3\n",
       "FRANCIA                         3\n",
       "VENEZUELA                       2\n",
       "POLONIA                         2\n",
       "ALEMANIA                        2\n",
       "COSTA RICA                      1\n",
       "CANADA                          1\n",
       "CENTRO AMERICA                  1\n",
       "CHILE                           1\n",
       "IRAN                            1\n",
       "ITALIA                          1\n",
       "JAPON                           1\n",
       "MARYLAND                        1\n",
       "INGLATERRA                      1\n",
       "AUSTRALIA                       1\n",
       "NICARAGUA                       1\n",
       "Name: count, dtype: int64"
      ]
     },
     "execution_count": 21,
     "metadata": {},
     "output_type": "execute_result"
    }
   ],
   "source": [
    "i += 1\n",
    "print(f\"Now looking at feature {i}.\")\n",
    "df[df.columns[i]].value_counts()"
   ]
  },
  {
   "cell_type": "markdown",
   "id": "4407873b",
   "metadata": {},
   "source": [
    "Unsurprising... we'll keep both for now. Especially when this will get simplified to binary Mexico or not."
   ]
  },
  {
   "cell_type": "code",
   "execution_count": 22,
   "id": "04dfdcb6",
   "metadata": {},
   "outputs": [],
   "source": [
    "feature_keepers = list(df[df.columns[i]].value_counts(normalize=True)[:1].index)\n",
    "df[df.columns[i]] = [\"OTHER\" if i not in feature_keepers  else i for i in df[df.columns[i]]]"
   ]
  },
  {
   "cell_type": "code",
   "execution_count": 23,
   "id": "f182eba9",
   "metadata": {},
   "outputs": [
    {
     "name": "stdout",
     "output_type": "stream",
     "text": [
      "Now looking at feature 8.\n"
     ]
    },
    {
     "data": {
      "text/plain": [
       "age_partner_man\n",
       "34.0    235\n",
       "31.0    216\n",
       "35.0    212\n",
       "32.0    203\n",
       "36.0    203\n",
       "       ... \n",
       "78.0      2\n",
       "76.0      2\n",
       "75.0      2\n",
       "91.0      1\n",
       "83.0      1\n",
       "Name: count, Length: 62, dtype: int64"
      ]
     },
     "execution_count": 23,
     "metadata": {},
     "output_type": "execute_result"
    }
   ],
   "source": [
    "i += 1\n",
    "print(f\"Now looking at feature {i}.\")\n",
    "df[df.columns[i]].value_counts()"
   ]
  },
  {
   "cell_type": "markdown",
   "id": "1d214d5d",
   "metadata": {},
   "source": [
    "I just reconfirmed and yes this is referring to dod. Hence, we're good to go to simplify by removing (as we originally assumed) the dob. However, I'd still be interested in seeing about how old they were when they got married. So, we'll see."
   ]
  },
  {
   "cell_type": "code",
   "execution_count": 24,
   "id": "3e512fee",
   "metadata": {},
   "outputs": [
    {
     "name": "stdout",
     "output_type": "stream",
     "text": [
      "Now looking at feature 9.\n"
     ]
    },
    {
     "data": {
      "text/plain": [
       "residence_municipality_partner_man\n",
       "XALAPA                 3927\n",
       "VERACRUZ                 67\n",
       "COATEPEC                 63\n",
       "EMILIANO ZAPATA          62\n",
       "DISTRITO FEDERAL         40\n",
       "                       ... \n",
       "SEBASTIAN TUXTLA          1\n",
       "GUSTAVO A. MADERO         1\n",
       "PETLALCINGO               1\n",
       "TECOLUTILLA               1\n",
       "SANTA MARIA EL TULE       1\n",
       "Name: count, Length: 175, dtype: int64"
      ]
     },
     "execution_count": 24,
     "metadata": {},
     "output_type": "execute_result"
    }
   ],
   "source": [
    "i += 1\n",
    "print(f\"Now looking at feature {i}.\")\n",
    "df[df.columns[i]].value_counts()"
   ]
  },
  {
   "cell_type": "code",
   "execution_count": 25,
   "id": "a067644b",
   "metadata": {},
   "outputs": [
    {
     "data": {
      "text/plain": [
       "residence_municipality_partner_man\n",
       "XALAPA             0.853881\n",
       "VERACRUZ           0.014568\n",
       "COATEPEC           0.013699\n",
       "EMILIANO ZAPATA    0.013481\n",
       "Name: proportion, dtype: float64"
      ]
     },
     "execution_count": 25,
     "metadata": {},
     "output_type": "execute_result"
    }
   ],
   "source": [
    "df[df.columns[i]].value_counts(normalize=True)[:4]"
   ]
  },
  {
   "cell_type": "markdown",
   "id": "554dcada",
   "metadata": {},
   "source": [
    "Eh... who cares. We'll keep it. Simplify it to anything past Emiliana Zapata ak 1 percent is other."
   ]
  },
  {
   "cell_type": "code",
   "execution_count": 26,
   "id": "f1509cb1",
   "metadata": {},
   "outputs": [],
   "source": [
    "feature_keepers = list(df[df.columns[i]].value_counts(normalize=True)[:4].index)\n",
    "df[df.columns[i]] = [\"OTHER\" if i not in feature_keepers  else i for i in df[df.columns[i]]]"
   ]
  },
  {
   "cell_type": "code",
   "execution_count": 27,
   "id": "516f8471",
   "metadata": {},
   "outputs": [
    {
     "name": "stdout",
     "output_type": "stream",
     "text": [
      "Now looking at feature 10.\n"
     ]
    },
    {
     "data": {
      "text/plain": [
       "residence_federal_partner_man\n",
       "VERACRUZ            4402\n",
       "DISTRITO FEDERAL      53\n",
       "PUEBLA                27\n",
       "TABASCO               11\n",
       "CHIAPAS                8\n",
       "Name: count, dtype: int64"
      ]
     },
     "execution_count": 27,
     "metadata": {},
     "output_type": "execute_result"
    }
   ],
   "source": [
    "i += 1\n",
    "print(f\"Now looking at feature {i}.\")\n",
    "df[df.columns[i]].value_counts()[:5]"
   ]
  },
  {
   "cell_type": "markdown",
   "id": "e3c951ca",
   "metadata": {},
   "source": [
    "Yeah, this is becoming binary. More spread out than the 'birth_country_partner_man' so worth having both."
   ]
  },
  {
   "cell_type": "code",
   "execution_count": 28,
   "id": "488cd571",
   "metadata": {},
   "outputs": [],
   "source": [
    "feature_keepers = list(df[df.columns[i]].value_counts(normalize=True)[:1].index)\n",
    "df[df.columns[i]] = [\"OTHER\" if i not in feature_keepers  else i for i in df[df.columns[i]]]"
   ]
  },
  {
   "cell_type": "code",
   "execution_count": 29,
   "id": "2d7952a8",
   "metadata": {},
   "outputs": [
    {
     "name": "stdout",
     "output_type": "stream",
     "text": [
      "Now looking at feature 11.\n"
     ]
    },
    {
     "data": {
      "text/plain": [
       "residence_country_partner_man\n",
       "MEXICO                       4589\n",
       "ESTADOS UNIDOS DE AMERICA       7\n",
       "ESPA√ëA                         1\n",
       "AUSTRALIA                       1\n",
       "PUERTO RICO                     1\n",
       "Name: count, dtype: int64"
      ]
     },
     "execution_count": 29,
     "metadata": {},
     "output_type": "execute_result"
    }
   ],
   "source": [
    "i += 1\n",
    "print(f\"Now looking at feature {i}.\")\n",
    "df[df.columns[i]].value_counts()"
   ]
  },
  {
   "cell_type": "markdown",
   "id": "0275c824",
   "metadata": {},
   "source": [
    "Heads up already re. potential inflation issues. However, the data isn't too far apart so we'll likely be lax and not bother for the sake of this study.\n",
    "\n",
    "Perhaps if it turns out that this feature is super significant we'll reconsider."
   ]
  },
  {
   "cell_type": "code",
   "execution_count": null,
   "id": "f981a186",
   "metadata": {},
   "outputs": [],
   "source": []
  },
  {
   "cell_type": "code",
   "execution_count": 30,
   "id": "46ca2c7b",
   "metadata": {},
   "outputs": [
    {
     "name": "stdout",
     "output_type": "stream",
     "text": [
      "Now looking at feature 12.\n"
     ]
    },
    {
     "data": {
      "text/plain": [
       "monthly_income_partner_man_peso\n",
       "5000.0     326\n",
       "3000.0     301\n",
       "4000.0     279\n",
       "10000.0    276\n",
       "6000.0     275\n",
       "          ... \n",
       "95000.0      1\n",
       "6300.0       1\n",
       "4100.0       1\n",
       "550.0        1\n",
       "12500.0      1\n",
       "Name: count, Length: 214, dtype: int64"
      ]
     },
     "execution_count": 30,
     "metadata": {},
     "output_type": "execute_result"
    }
   ],
   "source": [
    "i += 1\n",
    "print(f\"Now looking at feature {i}.\")\n",
    "df[df.columns[i]].value_counts()"
   ]
  },
  {
   "cell_type": "markdown",
   "id": "a58c6b9f",
   "metadata": {},
   "source": [
    "\n",
    "Hmm,pretty small after the first one. Potentially a move to just make this binary. At least for now we'll conntinue."
   ]
  },
  {
   "cell_type": "code",
   "execution_count": null,
   "id": "791bdfbb",
   "metadata": {},
   "outputs": [],
   "source": []
  },
  {
   "cell_type": "code",
   "execution_count": null,
   "id": "e6c13000",
   "metadata": {},
   "outputs": [],
   "source": []
  },
  {
   "cell_type": "code",
   "execution_count": 31,
   "id": "626d5898",
   "metadata": {},
   "outputs": [
    {
     "name": "stdout",
     "output_type": "stream",
     "text": [
      "Now looking at feature 13.\n"
     ]
    },
    {
     "data": {
      "text/plain": [
       "occupation_partner_man\n",
       "EMPLEADO                0.535275\n",
       "COMERCIANTE             0.068047\n",
       "PROFESOR                0.030041\n",
       "MAESTRO                 0.020255\n",
       "MEDICO                  0.019800\n",
       "                          ...   \n",
       "AGENTE DE SEGUROS       0.000228\n",
       "PRODUCTOR               0.000228\n",
       "ADMINISTRATIVO          0.000228\n",
       "MEDICO ANESTECIOLOGO    0.000228\n",
       "CAPITAN DE CORBETA      0.000228\n",
       "Name: proportion, Length: 221, dtype: float64"
      ]
     },
     "execution_count": 31,
     "metadata": {},
     "output_type": "execute_result"
    }
   ],
   "source": [
    "i += 1\n",
    "print(f\"Now looking at feature {i}.\")\n",
    "df[df.columns[i]].value_counts(normalize=True)"
   ]
  },
  {
   "cell_type": "markdown",
   "id": "f66282bb",
   "metadata": {},
   "source": [
    "First 4 are more than 2%; 13 are 1% so at most do 13 than an other category. They sum up to 65 and 80%."
   ]
  },
  {
   "cell_type": "markdown",
   "id": "dae62ee6",
   "metadata": {},
   "source": [
    "Similar to things we've seen before, but eh..."
   ]
  },
  {
   "cell_type": "code",
   "execution_count": 32,
   "id": "99d4062e",
   "metadata": {},
   "outputs": [
    {
     "data": {
      "text/plain": [
       "0.633363677742376"
      ]
     },
     "execution_count": 32,
     "metadata": {},
     "output_type": "execute_result"
    }
   ],
   "source": [
    "sum(df[df.columns[13]].value_counts(normalize=True)[:3]) #I think I'm doing something wrong here when I wnet back to check this out\n",
    "#Will worry about it lter."
   ]
  },
  {
   "cell_type": "code",
   "execution_count": 33,
   "id": "1531fda3",
   "metadata": {},
   "outputs": [],
   "source": [
    "feature_keepers = list(df[df.columns[i]].value_counts(normalize=True)[:3].index)\n",
    "df[df.columns[i]] = [\"OTHER\" if i not in feature_keepers  else i for i in df[df.columns[i]]]"
   ]
  },
  {
   "cell_type": "markdown",
   "id": "d995da1c",
   "metadata": {},
   "source": [
    "## Re. the women:\n",
    "\n",
    "By default won't bother to comment unless I notice trends that I find significant between the two. Ie even if the nationality is much more likely to be Mexican if a woman I won't bother commenting given that they're similar."
   ]
  },
  {
   "cell_type": "code",
   "execution_count": 34,
   "id": "30bc1c89",
   "metadata": {},
   "outputs": [
    {
     "name": "stdout",
     "output_type": "stream",
     "text": [
      "Now looking at feature 14.\n"
     ]
    },
    {
     "data": {
      "text/plain": [
       "place_of_residence_partner_man\n",
       "XALAPA-ENRIQUEZ     0.851369\n",
       "VERACRUZ            0.014342\n",
       "COATEPEC            0.012386\n",
       "EMILIANO ZAPATA     0.008040\n",
       "DISTRITO FEDERAL    0.007388\n",
       "                      ...   \n",
       "ZONGOLICA           0.000217\n",
       "CERRO COLORADO      0.000217\n",
       "MIGUEL HIDALGO      0.000217\n",
       "ALVARO OBREGON      0.000217\n",
       "LAS PUENTES         0.000217\n",
       "Name: proportion, Length: 229, dtype: float64"
      ]
     },
     "execution_count": 34,
     "metadata": {},
     "output_type": "execute_result"
    }
   ],
   "source": [
    "i += 1\n",
    "print(f\"Now looking at feature {i}.\")\n",
    "df[df.columns[i]].value_counts(normalize=True)"
   ]
  },
  {
   "cell_type": "code",
   "execution_count": 35,
   "id": "daf0d8fc",
   "metadata": {},
   "outputs": [],
   "source": [
    "feature_keepers = list(df[df.columns[i]].value_counts(normalize=True)[:1].index)\n",
    "df[df.columns[i]] = [\"OTHER\" if i not in feature_keepers  else i for i in df[df.columns[i]]]"
   ]
  },
  {
   "cell_type": "code",
   "execution_count": null,
   "id": "c2a86c3c",
   "metadata": {},
   "outputs": [],
   "source": []
  },
  {
   "cell_type": "code",
   "execution_count": 36,
   "id": "68c3a6fa",
   "metadata": {},
   "outputs": [
    {
     "name": "stdout",
     "output_type": "stream",
     "text": [
      "Now looking at feature 15.\n"
     ]
    },
    {
     "data": {
      "text/plain": [
       "nationality_partner_woman\n",
       "MEXICANA          4890\n",
       "CUBANA               6\n",
       "ESTADOUNIDENSE       5\n",
       "FRANCESA             3\n",
       "ESPA√ëOLA            3\n",
       "ARGENTINA            2\n",
       "POLACA               2\n",
       "BRASILE√ëA           1\n",
       "PERUANA              1\n",
       "DOMINICANA           1\n",
       "VENEZOLANA           1\n",
       "COLOMBIANA           1\n",
       "BOLIVIANA            1\n",
       "JAPONESA             1\n",
       "BRITANICA            1\n",
       "SUIZA                1\n",
       "Name: count, dtype: int64"
      ]
     },
     "execution_count": 36,
     "metadata": {},
     "output_type": "execute_result"
    }
   ],
   "source": [
    "i += 1\n",
    "print(f\"Now looking at feature {i}.\")\n",
    "df[df.columns[i]].value_counts()"
   ]
  },
  {
   "cell_type": "code",
   "execution_count": null,
   "id": "e9eaf404",
   "metadata": {},
   "outputs": [],
   "source": []
  },
  {
   "cell_type": "code",
   "execution_count": null,
   "id": "5b75a7bd",
   "metadata": {},
   "outputs": [],
   "source": []
  },
  {
   "cell_type": "code",
   "execution_count": 37,
   "id": "7cfd67cc",
   "metadata": {},
   "outputs": [
    {
     "name": "stdout",
     "output_type": "stream",
     "text": [
      "Now looking at feature 16.\n"
     ]
    },
    {
     "data": {
      "text/plain": [
       "dob_partner_woman\n",
       "11/12/72    5\n",
       "19/2/71     5\n",
       "6/6/68      4\n",
       "6/7/77      4\n",
       "3/6/72      4\n",
       "           ..\n",
       "28/2/65     1\n",
       "11/12/71    1\n",
       "1/10/52     1\n",
       "25/3/76     1\n",
       "22/1/72     1\n",
       "Name: count, Length: 3765, dtype: int64"
      ]
     },
     "execution_count": 37,
     "metadata": {},
     "output_type": "execute_result"
    }
   ],
   "source": [
    "i += 1\n",
    "print(f\"Now looking at feature {i}.\")\n",
    "df[df.columns[i]].value_counts()"
   ]
  },
  {
   "cell_type": "markdown",
   "id": "108c223a",
   "metadata": {},
   "source": [
    "Like earlier with the man, it's want to be deleted. But, let's continue for now."
   ]
  },
  {
   "cell_type": "code",
   "execution_count": null,
   "id": "3a4e3ca9",
   "metadata": {},
   "outputs": [],
   "source": []
  },
  {
   "cell_type": "code",
   "execution_count": 38,
   "id": "d3acdd8a",
   "metadata": {},
   "outputs": [
    {
     "name": "stdout",
     "output_type": "stream",
     "text": [
      "Now looking at feature 17.\n"
     ]
    },
    {
     "data": {
      "text/plain": [
       "dob_registration_date_partner_woman\n",
       "21/2/73     4\n",
       "1/8/77      3\n",
       "7/7/69      3\n",
       "3/5/73      3\n",
       "8/6/70      3\n",
       "           ..\n",
       "16/2/52     1\n",
       "31/8/74     1\n",
       "29/5/87     1\n",
       "27/12/76    1\n",
       "7/9/72      1\n",
       "Name: count, Length: 2003, dtype: int64"
      ]
     },
     "execution_count": 38,
     "metadata": {},
     "output_type": "execute_result"
    }
   ],
   "source": [
    "i += 1\n",
    "print(f\"Now looking at feature {i}.\")\n",
    "df[df.columns[i]].value_counts()"
   ]
  },
  {
   "cell_type": "markdown",
   "id": "72328370",
   "metadata": {},
   "source": [
    "Woah, we did not have this earlier. More than half nulls and not even sure what it is. Perhaps a proxy of some kind for growing up in a messed up home if the dob somehow wasn't legally/formally recognized in a hospital. Really do not know. But yeah, we're deleting this one."
   ]
  },
  {
   "cell_type": "code",
   "execution_count": 39,
   "id": "ff545c39",
   "metadata": {},
   "outputs": [],
   "source": [
    "j = -1"
   ]
  },
  {
   "cell_type": "code",
   "execution_count": 40,
   "id": "8545c54d",
   "metadata": {},
   "outputs": [
    {
     "name": "stdout",
     "output_type": "stream",
     "text": [
      "0\n"
     ]
    },
    {
     "data": {
      "text/plain": [
       "divorce_date                                       9/6/06\n",
       "type_of_divorce                                 Necesario\n",
       "nationality_partner_man                                 0\n",
       "dob_partner_man                                  18/12/75\n",
       "place_of_birth_partner_man              XALAPA - ENRIQUEZ\n",
       "birth_municipality_of_partner_man                  XALAPA\n",
       "birth_federal_partner_man                        VERACRUZ\n",
       "birth_country_partner_man                          MEXICO\n",
       "age_partner_man                                      30.0\n",
       "residence_municipality_partner_man                 XALAPA\n",
       "residence_federal_partner_man                    VERACRUZ\n",
       "residence_country_partner_man                      MEXICO\n",
       "monthly_income_partner_man_peso                    2000.0\n",
       "occupation_partner_man                              OTHER\n",
       "place_of_residence_partner_man            XALAPA-ENRIQUEZ\n",
       "nationality_partner_woman                        MEXICANA\n",
       "dob_partner_woman                                  8/1/83\n",
       "dob_registration_date_partner_woman                   NaN\n",
       "place_of_birth_partner_woman                       PUEBLA\n",
       "birth_municipality_of_partner_woman                PUEBLA\n",
       "birth_federal_partner_woman                        PUEBLA\n",
       "birth_country_partner_woman                        MEXICO\n",
       "age_partner_woman                                    22.0\n",
       "place_of_residence_partner_woman          XALAPA-ENRIQUEZ\n",
       "residence_municipality_partner_woman               XALAPA\n",
       "residence_federal_partner_woman                  VERACRUZ\n",
       "residence_country_partner_woman                    MEXICO\n",
       "occupation_partner_woman                         EMPLEADA\n",
       "monthly_income_partner_woman_peso                  1800.0\n",
       "date_of_marriage                                  26/6/00\n",
       "marriage_certificate_place                         XALAPA\n",
       "marriage_certificate_municipality                  XALAPA\n",
       "marriage_certificate_federal                     VERACRUZ\n",
       "level_of_education_partner_man                 SECUNDARIA\n",
       "employment_status_partner_man                      OBRERO\n",
       "level_of_education_partner_woman               SECUNDARIA\n",
       "employment_status_partner_woman                  EMPLEADO\n",
       "marriage_duration                                     5.0\n",
       "marriage_duration_months                              NaN\n",
       "num_children                                          1.0\n",
       "custody                                               NaN\n",
       "Name: 0, dtype: object"
      ]
     },
     "execution_count": 40,
     "metadata": {},
     "output_type": "execute_result"
    }
   ],
   "source": [
    "j += 1\n",
    "print(j)\n",
    "df.iloc[j]"
   ]
  },
  {
   "cell_type": "code",
   "execution_count": 41,
   "id": "58e62444",
   "metadata": {},
   "outputs": [
    {
     "name": "stdout",
     "output_type": "stream",
     "text": [
      "Next up to be deleted is dob_registration_date_partner_woman and now we're poised to delete a total of 3 from our dataframe.\n"
     ]
    }
   ],
   "source": [
    "to_be_deleted.append(df.columns[i])\n",
    "print(f\"Next up to be deleted is {df.columns[i]} and now we're poised to delete a total of {len(to_be_deleted)} from our dataframe.\")"
   ]
  },
  {
   "cell_type": "code",
   "execution_count": 42,
   "id": "fc6c0fc8",
   "metadata": {},
   "outputs": [
    {
     "name": "stdout",
     "output_type": "stream",
     "text": [
      "Now looking at feature 18.\n"
     ]
    },
    {
     "data": {
      "text/plain": [
       "place_of_birth_partner_woman\n",
       "XALAPA-ENRIQUEZ         2595\n",
       "DISTRITO FEDERAL         306\n",
       "VERACRUZ                 107\n",
       "POZA RICA                 54\n",
       "MARTINEZ DE LA TORRE      51\n",
       "                        ... \n",
       "EL TIBOR                   1\n",
       "TLATLAUQUITEPEC            1\n",
       "HUAYACOCOTLA               1\n",
       "MIRADORES DEL MAR          1\n",
       "LA LIMA                    1\n",
       "Name: count, Length: 653, dtype: int64"
      ]
     },
     "execution_count": 42,
     "metadata": {},
     "output_type": "execute_result"
    }
   ],
   "source": [
    "i += 1\n",
    "print(f\"Now looking at feature {i}.\")\n",
    "df[df.columns[i]].value_counts()"
   ]
  },
  {
   "cell_type": "markdown",
   "id": "ff3e3d30",
   "metadata": {},
   "source": [
    "Like above... Besides we're deletign something I'll actually comment though."
   ]
  },
  {
   "cell_type": "code",
   "execution_count": 43,
   "id": "09a029fe",
   "metadata": {},
   "outputs": [
    {
     "name": "stdout",
     "output_type": "stream",
     "text": [
      "Next up to be deleted is place_of_birth_partner_woman and now we're poised to delete a total of 4 from our dataframe.\n"
     ]
    }
   ],
   "source": [
    "to_be_deleted.append(df.columns[i])\n",
    "print(f\"Next up to be deleted is {df.columns[i]} and now we're poised to delete a total of {len(to_be_deleted)} from our dataframe.\")"
   ]
  },
  {
   "cell_type": "code",
   "execution_count": null,
   "id": "8a69b69e",
   "metadata": {},
   "outputs": [],
   "source": []
  },
  {
   "cell_type": "code",
   "execution_count": 44,
   "id": "ea7dbc4e",
   "metadata": {},
   "outputs": [
    {
     "name": "stdout",
     "output_type": "stream",
     "text": [
      "Now looking at feature 19.\n"
     ]
    },
    {
     "data": {
      "text/plain": [
       "birth_municipality_of_partner_woman\n",
       "XALAPA                  2612\n",
       "DISTRITO FEDERAL         308\n",
       "VERACRUZ                 110\n",
       "MARTINEZ DE LA TORRE      66\n",
       "POZA RICA                 55\n",
       "                        ... \n",
       "IRAPUATO                   1\n",
       "OTATITLAN                  1\n",
       "IXTACZOQUITLAN             1\n",
       "JESUS CARRANZA             1\n",
       "PONTEVEDRA                 1\n",
       "Name: count, Length: 404, dtype: int64"
      ]
     },
     "execution_count": 44,
     "metadata": {},
     "output_type": "execute_result"
    }
   ],
   "source": [
    "i += 1\n",
    "print(f\"Now looking at feature {i}.\")\n",
    "df[df.columns[i]].value_counts()"
   ]
  },
  {
   "cell_type": "code",
   "execution_count": null,
   "id": "947b2ba7",
   "metadata": {},
   "outputs": [],
   "source": []
  },
  {
   "cell_type": "code",
   "execution_count": null,
   "id": "c85a4440",
   "metadata": {},
   "outputs": [],
   "source": []
  },
  {
   "cell_type": "code",
   "execution_count": 45,
   "id": "bfcec0d2",
   "metadata": {},
   "outputs": [
    {
     "name": "stdout",
     "output_type": "stream",
     "text": [
      "Now looking at feature 20.\n"
     ]
    },
    {
     "data": {
      "text/plain": [
       "birth_federal_partner_woman\n",
       "VERACRUZ            4011\n",
       "DISTRITO FEDERAL     362\n",
       "PUEBLA                93\n",
       "OAXACA                38\n",
       "TAMAULIPAS            30\n",
       "                    ... \n",
       "SANTO DOMINGO          1\n",
       "NUEVA ESPARTA          1\n",
       "SAN PAULO              1\n",
       "ESPA√ëA                1\n",
       "ZURICH                 1\n",
       "Name: count, Length: 72, dtype: int64"
      ]
     },
     "execution_count": 45,
     "metadata": {},
     "output_type": "execute_result"
    }
   ],
   "source": [
    "i += 1\n",
    "print(f\"Now looking at feature {i}.\")\n",
    "df[df.columns[i]].value_counts()"
   ]
  },
  {
   "cell_type": "code",
   "execution_count": null,
   "id": "4741fdbb",
   "metadata": {},
   "outputs": [],
   "source": []
  },
  {
   "cell_type": "code",
   "execution_count": null,
   "id": "7c425136",
   "metadata": {},
   "outputs": [],
   "source": []
  },
  {
   "cell_type": "code",
   "execution_count": 46,
   "id": "300bd86c",
   "metadata": {},
   "outputs": [
    {
     "name": "stdout",
     "output_type": "stream",
     "text": [
      "Now looking at feature 21.\n"
     ]
    },
    {
     "data": {
      "text/plain": [
       "birth_country_partner_woman\n",
       "MEXICO                       4742\n",
       "ESTADOS UNIDOS DE AMERICA       7\n",
       "CUBA                            7\n",
       "ESPA√ëA                         4\n",
       "FRANCIA                         3\n",
       "REPUBLICA DOMINICANA            3\n",
       "BRASIL                          2\n",
       "COLOMBIA                        2\n",
       "SUIZA                           2\n",
       "POLONIA                         2\n",
       "URUGUAY                         1\n",
       "ARGELIA                         1\n",
       "JAPON                           1\n",
       "ARGENTINA                       1\n",
       "VENEZUELA                       1\n",
       "GUATEMALA                       1\n",
       "BOLIVIA                         1\n",
       "CALIFORNIA                      1\n",
       "PERU                            1\n",
       "INGLATERRA                      1\n",
       "Name: count, dtype: int64"
      ]
     },
     "execution_count": 46,
     "metadata": {},
     "output_type": "execute_result"
    }
   ],
   "source": [
    "i += 1\n",
    "print(f\"Now looking at feature {i}.\")\n",
    "df[df.columns[i]].value_counts()"
   ]
  },
  {
   "cell_type": "markdown",
   "id": "8e80a5b5",
   "metadata": {},
   "source": [
    "Interesting that women seems to be more diverse, country wise, than men. Might be significant. Ie would show that there's an inclination for the man to be more 'at ease' in this dataset (via the fact that he's more likely to be 'at home', 'in his element')."
   ]
  },
  {
   "cell_type": "code",
   "execution_count": null,
   "id": "5c65cb8d",
   "metadata": {},
   "outputs": [],
   "source": []
  },
  {
   "cell_type": "code",
   "execution_count": 47,
   "id": "a5bf9a33",
   "metadata": {},
   "outputs": [
    {
     "name": "stdout",
     "output_type": "stream",
     "text": [
      "Now looking at feature 22.\n"
     ]
    },
    {
     "data": {
      "text/plain": [
       "age_partner_woman\n",
       "33.0    220\n",
       "32.0    213\n",
       "35.0    208\n",
       "29.0    205\n",
       "31.0    194\n",
       "       ... \n",
       "84.0      1\n",
       "76.0      1\n",
       "73.0      1\n",
       "68.0      1\n",
       "75.0      1\n",
       "Name: count, Length: 63, dtype: int64"
      ]
     },
     "execution_count": 47,
     "metadata": {},
     "output_type": "execute_result"
    }
   ],
   "source": [
    "i += 1\n",
    "print(f\"Now looking at feature {i}.\")\n",
    "df[df.columns[i]].value_counts()"
   ]
  },
  {
   "cell_type": "code",
   "execution_count": null,
   "id": "79e9b684",
   "metadata": {},
   "outputs": [],
   "source": []
  },
  {
   "cell_type": "code",
   "execution_count": null,
   "id": "d80d0c9e",
   "metadata": {},
   "outputs": [],
   "source": []
  },
  {
   "cell_type": "code",
   "execution_count": 48,
   "id": "2bc9efc1",
   "metadata": {},
   "outputs": [
    {
     "name": "stdout",
     "output_type": "stream",
     "text": [
      "Now looking at feature 23.\n"
     ]
    },
    {
     "data": {
      "text/plain": [
       "place_of_residence_partner_woman\n",
       "XALAPA-ENRIQUEZ    4162\n",
       "EMILIANO ZAPATA      43\n",
       "COATEPEC             40\n",
       "VERACRUZ             35\n",
       "BANDERILLA           26\n",
       "                   ... \n",
       "CHILTOYAC             1\n",
       "EL ESPINAL            1\n",
       "VILLA RICA            1\n",
       "INDIANA               1\n",
       "SANTIAGO TUXTLA       1\n",
       "Name: count, Length: 174, dtype: int64"
      ]
     },
     "execution_count": 48,
     "metadata": {},
     "output_type": "execute_result"
    }
   ],
   "source": [
    "i += 1\n",
    "print(f\"Now looking at feature {i}.\")\n",
    "df[df.columns[i]].value_counts()"
   ]
  },
  {
   "cell_type": "code",
   "execution_count": null,
   "id": "64df1529",
   "metadata": {},
   "outputs": [],
   "source": []
  },
  {
   "cell_type": "code",
   "execution_count": null,
   "id": "7ef7db31",
   "metadata": {},
   "outputs": [],
   "source": []
  },
  {
   "cell_type": "code",
   "execution_count": 49,
   "id": "c58f3029",
   "metadata": {},
   "outputs": [
    {
     "name": "stdout",
     "output_type": "stream",
     "text": [
      "Now looking at feature 24.\n"
     ]
    },
    {
     "data": {
      "text/plain": [
       "residence_municipality_partner_woman\n",
       "XALAPA                4179\n",
       "EMILIANO ZAPATA         61\n",
       "COATEPEC                41\n",
       "VERACRUZ                37\n",
       "BANDERILLA              26\n",
       "                      ... \n",
       "PACHUCA                  1\n",
       "TRES VALLES              1\n",
       "VALENCIA                 1\n",
       "CUAUTITLAN IZCALLI       1\n",
       "SANTIAGO TUXTLA          1\n",
       "Name: count, Length: 131, dtype: int64"
      ]
     },
     "execution_count": 49,
     "metadata": {},
     "output_type": "execute_result"
    }
   ],
   "source": [
    "i += 1\n",
    "print(f\"Now looking at feature {i}.\")\n",
    "df[df.columns[i]].value_counts()"
   ]
  },
  {
   "cell_type": "code",
   "execution_count": null,
   "id": "479bfa95",
   "metadata": {},
   "outputs": [],
   "source": []
  },
  {
   "cell_type": "code",
   "execution_count": null,
   "id": "c34a7cb8",
   "metadata": {},
   "outputs": [],
   "source": []
  },
  {
   "cell_type": "code",
   "execution_count": 50,
   "id": "1d3d0c2e",
   "metadata": {},
   "outputs": [
    {
     "name": "stdout",
     "output_type": "stream",
     "text": [
      "Now looking at feature 25.\n"
     ]
    },
    {
     "data": {
      "text/plain": [
       "residence_federal_partner_woman\n",
       "VERACRUZ                4489\n",
       "DISTRITO FEDERAL          25\n",
       "PUEBLA                    13\n",
       "QUINTANA ROO               9\n",
       "QUERETARO                  7\n",
       "TAMAULIPAS                 6\n",
       "MEXICO                     6\n",
       "ESTADO DE MEXICO           6\n",
       "MORELOS                    6\n",
       "CHIAPAS                    5\n",
       "CAMPECHE                   5\n",
       "BAJA CALIFORNIA            5\n",
       "OAXACA                     4\n",
       "TABASCO                    4\n",
       "HIDALGO                    4\n",
       "AGUASCALIENTES             3\n",
       "GUANAJUATO                 2\n",
       "SONORA                     2\n",
       "GUERRERO                   2\n",
       "YUCATAN                    2\n",
       "NAYARIT                    1\n",
       "CHAUTEMPAN                 1\n",
       "PARIS                      1\n",
       "TEXAS                      1\n",
       "FLORIDA                    1\n",
       "USA                        1\n",
       "NEW YORK                   1\n",
       "COMUNIDAD VALENCIANA       1\n",
       "BAJA CALIFORNIA SUR        1\n",
       "MICHOACAN                  1\n",
       "COLIMA                     1\n",
       "TEXCOCO                    1\n",
       "COAHUILA                   1\n",
       "Name: count, dtype: int64"
      ]
     },
     "execution_count": 50,
     "metadata": {},
     "output_type": "execute_result"
    }
   ],
   "source": [
    "i += 1\n",
    "print(f\"Now looking at feature {i}.\")\n",
    "df[df.columns[i]].value_counts()"
   ]
  },
  {
   "cell_type": "markdown",
   "id": "fcb8091e",
   "metadata": {},
   "source": [
    "Perhaps due earlier and already tacitly assumed, but whatever proxy for these I'll use for both the men and women."
   ]
  },
  {
   "cell_type": "code",
   "execution_count": null,
   "id": "8b0965cc",
   "metadata": {},
   "outputs": [],
   "source": []
  },
  {
   "cell_type": "code",
   "execution_count": null,
   "id": "7f440ee0",
   "metadata": {},
   "outputs": [],
   "source": []
  },
  {
   "cell_type": "code",
   "execution_count": 51,
   "id": "cdd78995",
   "metadata": {},
   "outputs": [
    {
     "name": "stdout",
     "output_type": "stream",
     "text": [
      "Now looking at feature 26.\n"
     ]
    },
    {
     "data": {
      "text/plain": [
       "residence_country_partner_woman\n",
       "MEXICO            4612\n",
       "ESTADOS UNIDOS       4\n",
       "ESPA√ëA              1\n",
       "FRANCIA              1\n",
       "Name: count, dtype: int64"
      ]
     },
     "execution_count": 51,
     "metadata": {},
     "output_type": "execute_result"
    }
   ],
   "source": [
    "i += 1\n",
    "print(f\"Now looking at feature {i}.\")\n",
    "df[df.columns[i]].value_counts()"
   ]
  },
  {
   "cell_type": "code",
   "execution_count": null,
   "id": "c5b4a6c7",
   "metadata": {},
   "outputs": [],
   "source": []
  },
  {
   "cell_type": "code",
   "execution_count": null,
   "id": "58548c30",
   "metadata": {},
   "outputs": [],
   "source": []
  },
  {
   "cell_type": "code",
   "execution_count": 52,
   "id": "ed7e1f35",
   "metadata": {},
   "outputs": [
    {
     "name": "stdout",
     "output_type": "stream",
     "text": [
      "Now looking at feature 26.\n"
     ]
    },
    {
     "data": {
      "text/plain": [
       "residence_country_partner_woman\n",
       "MEXICO            0.998701\n",
       "ESTADOS UNIDOS    0.000866\n",
       "ESPA√ëA           0.000217\n",
       "FRANCIA           0.000217\n",
       "Name: proportion, dtype: float64"
      ]
     },
     "execution_count": 52,
     "metadata": {},
     "output_type": "execute_result"
    }
   ],
   "source": [
    "# i += 1\n",
    "print(f\"Now looking at feature {i}.\")\n",
    "df[df.columns[i]].value_counts(normalize=True)"
   ]
  },
  {
   "cell_type": "markdown",
   "id": "363bd86c",
   "metadata": {},
   "source": [
    "Much more of a spread - unsurprisingly per 'domain knowledge.' Match ups wil be interesting."
   ]
  },
  {
   "cell_type": "code",
   "execution_count": 53,
   "id": "cff28762",
   "metadata": {},
   "outputs": [
    {
     "data": {
      "text/plain": [
       "(0.9997834560415764, 0.9999999999999999)"
      ]
     },
     "execution_count": 53,
     "metadata": {},
     "output_type": "execute_result"
    }
   ],
   "source": [
    "sum(df[df.columns[i]].value_counts(normalize=True)[:3]), sum(df[df.columns[i]].value_counts(normalize=True)[:10])"
   ]
  },
  {
   "cell_type": "code",
   "execution_count": 54,
   "id": "b3ead4fb",
   "metadata": {},
   "outputs": [
    {
     "name": "stdout",
     "output_type": "stream",
     "text": [
      "Now looking at feature 27.\n"
     ]
    },
    {
     "data": {
      "text/plain": [
       "occupation_partner_woman\n",
       "EMPLEADA              1886\n",
       "AMA DE CASA            550\n",
       "LABORES DOMESTICAS     325\n",
       "MAESTRA                215\n",
       "COMERCIANTE            174\n",
       "                      ... \n",
       "SENADORA                 1\n",
       "BANQUERO                 1\n",
       "SOCIOLOGA                1\n",
       "MODESTA                  1\n",
       "PREPARATORIA             1\n",
       "Name: count, Length: 156, dtype: int64"
      ]
     },
     "execution_count": 54,
     "metadata": {},
     "output_type": "execute_result"
    }
   ],
   "source": [
    "i += 1\n",
    "print(f\"Now looking at feature {i}.\")\n",
    "df[df.columns[i]].value_counts()"
   ]
  },
  {
   "cell_type": "code",
   "execution_count": null,
   "id": "5fdcecb2",
   "metadata": {},
   "outputs": [],
   "source": []
  },
  {
   "cell_type": "code",
   "execution_count": null,
   "id": "1ab80fa0",
   "metadata": {},
   "outputs": [],
   "source": []
  },
  {
   "cell_type": "code",
   "execution_count": 55,
   "id": "7b0cbde7",
   "metadata": {},
   "outputs": [
    {
     "name": "stdout",
     "output_type": "stream",
     "text": [
      "Now looking at feature 28.\n"
     ]
    },
    {
     "data": {
      "text/plain": [
       "monthly_income_partner_woman_peso\n",
       "5000.0     277\n",
       "6000.0     245\n",
       "4000.0     238\n",
       "3000.0     226\n",
       "10000.0    192\n",
       "          ... \n",
       "75000.0      1\n",
       "5100.0       1\n",
       "1550.0       1\n",
       "1930.0       1\n",
       "29000.0      1\n",
       "Name: count, Length: 188, dtype: int64"
      ]
     },
     "execution_count": 55,
     "metadata": {},
     "output_type": "execute_result"
    }
   ],
   "source": [
    "i += 1\n",
    "print(f\"Now looking at feature {i}.\")\n",
    "df[df.columns[i]].value_counts()"
   ]
  },
  {
   "cell_type": "markdown",
   "id": "dfb166f2",
   "metadata": {},
   "source": [
    "Oh! What we've been waiting for. In of itself we don't care, but releative to: Man's age, woman's, date of divorce - it's very important!"
   ]
  },
  {
   "cell_type": "code",
   "execution_count": null,
   "id": "26246233",
   "metadata": {},
   "outputs": [],
   "source": []
  },
  {
   "cell_type": "code",
   "execution_count": 56,
   "id": "d698ee75",
   "metadata": {},
   "outputs": [
    {
     "name": "stdout",
     "output_type": "stream",
     "text": [
      "Now looking at feature 29.\n"
     ]
    },
    {
     "data": {
      "text/plain": [
       "date_of_marriage\n",
       "10/2/00     8\n",
       "11/3/97     7\n",
       "14/12/90    7\n",
       "13/2/01     7\n",
       "8/2/02      7\n",
       "           ..\n",
       "6/1/75      1\n",
       "26/2/82     1\n",
       "27/1/98     1\n",
       "12/12/74    1\n",
       "22/8/09     1\n",
       "Name: count, Length: 3651, dtype: int64"
      ]
     },
     "execution_count": 56,
     "metadata": {},
     "output_type": "execute_result"
    }
   ],
   "source": [
    "i += 1\n",
    "print(f\"Now looking at feature {i}.\")\n",
    "df[df.columns[i]].value_counts()"
   ]
  },
  {
   "cell_type": "code",
   "execution_count": null,
   "id": "527de366",
   "metadata": {},
   "outputs": [],
   "source": []
  },
  {
   "cell_type": "code",
   "execution_count": null,
   "id": "3fd890e8",
   "metadata": {},
   "outputs": [],
   "source": []
  },
  {
   "cell_type": "code",
   "execution_count": 57,
   "id": "480a1dc1",
   "metadata": {},
   "outputs": [
    {
     "name": "stdout",
     "output_type": "stream",
     "text": [
      "Now looking at feature 30.\n"
     ]
    },
    {
     "data": {
      "text/plain": [
       "marriage_certificate_place\n",
       "XALAPA                    4302\n",
       "BANDERILLA                  59\n",
       "DISTRITO FEDERAL            42\n",
       "COATEPEC                    40\n",
       "VERACRUZ                    26\n",
       "                          ... \n",
       "CHACALTIANGUIS               1\n",
       "TLACOLULA DE MATAMOROS       1\n",
       "OTATITLAN                    1\n",
       "IZUCAR DE MATAMOROS          1\n",
       "PAPALOTLA                    1\n",
       "Name: count, Length: 216, dtype: int64"
      ]
     },
     "execution_count": 57,
     "metadata": {},
     "output_type": "execute_result"
    }
   ],
   "source": [
    "i += 1\n",
    "print(f\"Now looking at feature {i}.\")\n",
    "df[df.columns[i]].value_counts()"
   ]
  },
  {
   "cell_type": "markdown",
   "id": "96d805ac",
   "metadata": {},
   "source": [
    "A potentially new factor. Not necessarily the same place where the marriage ceremony, if any, took place, but likely a potential factor. Oh the stories with notaries, pre-nuptials, etc. ... But such are definitely beyond the scope of this project.\n",
    "\n",
    "Somewhat tangentially: Did I delete some code? Had to copy more code the next day for this column... Oh well."
   ]
  },
  {
   "cell_type": "code",
   "execution_count": null,
   "id": "3131e57f",
   "metadata": {},
   "outputs": [],
   "source": [
    "to_be_deleted.append(df.columns[i])\n",
    "print(f\"Next up to be deleted is {df.columns[i]} and now we're poised to delete a total of {len(to_be_deleted)} from our dataframe.\")"
   ]
  },
  {
   "cell_type": "code",
   "execution_count": null,
   "id": "a3d7aa39",
   "metadata": {},
   "outputs": [],
   "source": []
  },
  {
   "cell_type": "code",
   "execution_count": null,
   "id": "921c478b",
   "metadata": {},
   "outputs": [],
   "source": []
  },
  {
   "cell_type": "code",
   "execution_count": 58,
   "id": "78fe755e",
   "metadata": {},
   "outputs": [
    {
     "name": "stdout",
     "output_type": "stream",
     "text": [
      "Now looking at feature 31.\n"
     ]
    },
    {
     "data": {
      "text/plain": [
       "marriage_certificate_municipality\n",
       "XALAPA                       4301\n",
       "BANDERILLA                     59\n",
       "DISTRITO FEDERAL               44\n",
       "COATEPEC                       40\n",
       "VERACRUZ                       26\n",
       "                             ... \n",
       "SAN SEBASTIAN DE APARICIO       1\n",
       "TEHUACAN                        1\n",
       "COSCOMATEPEC                    1\n",
       "NUEVO PARANGARICUTIRO           1\n",
       "PAPALOTLA                       1\n",
       "Name: count, Length: 194, dtype: int64"
      ]
     },
     "execution_count": 58,
     "metadata": {},
     "output_type": "execute_result"
    }
   ],
   "source": [
    "i += 1\n",
    "print(f\"Now looking at feature {i}.\")\n",
    "df[df.columns[i]].value_counts()"
   ]
  },
  {
   "cell_type": "code",
   "execution_count": null,
   "id": "71eb8bb1",
   "metadata": {},
   "outputs": [],
   "source": []
  },
  {
   "cell_type": "markdown",
   "id": "9d6db920",
   "metadata": {},
   "source": [
    "Like other things, very similar... So, we'll go with the more general feeature."
   ]
  },
  {
   "cell_type": "code",
   "execution_count": null,
   "id": "4b30e5d5",
   "metadata": {},
   "outputs": [],
   "source": []
  },
  {
   "cell_type": "code",
   "execution_count": 59,
   "id": "5bda20f9",
   "metadata": {},
   "outputs": [
    {
     "name": "stdout",
     "output_type": "stream",
     "text": [
      "Now looking at feature 32.\n"
     ]
    },
    {
     "data": {
      "text/plain": [
       "marriage_certificate_federal\n",
       "VERACRUZ                4754\n",
       "DISTRITO FEDERAL          44\n",
       "MEXICO                    30\n",
       "PUEBLA                    16\n",
       "MORELOS                    9\n",
       "OAXACA                     7\n",
       "TAMAULIPAS                 6\n",
       "TABASCO                    6\n",
       "HIDALGO                    5\n",
       "CUBA                       5\n",
       "GUERRERO                   3\n",
       "MICHOACAN                  3\n",
       "QUINTANA ROO               3\n",
       "JALISCO                    3\n",
       "BAJA CALIFORNIA            3\n",
       "CHIAPAS                    3\n",
       "NUEVO LEON                 2\n",
       "SINALOA                    2\n",
       "ESTADO DE MEXICO           2\n",
       "SONORA                     2\n",
       "COAHUILA                   2\n",
       "NAYARIT                    2\n",
       "BUENOS AIRES               1\n",
       "QUERETARO                  1\n",
       "TLAXCALA                   1\n",
       "SAN LUIS POTOSI            1\n",
       "YUCATAN                    1\n",
       "POLONIA                    1\n",
       "TEXAS                      1\n",
       "GUANAJUATO                 1\n",
       "REPUBLICA DOMINICANA       1\n",
       "CAMPECHE                   1\n",
       "AGUASCALIENTES             1\n",
       "Name: count, dtype: int64"
      ]
     },
     "execution_count": 59,
     "metadata": {},
     "output_type": "execute_result"
    }
   ],
   "source": [
    "i += 1\n",
    "print(f\"Now looking at feature {i}.\")\n",
    "df[df.columns[i]].value_counts()"
   ]
  },
  {
   "cell_type": "code",
   "execution_count": 60,
   "id": "592d00dd",
   "metadata": {},
   "outputs": [
    {
     "data": {
      "text/plain": [
       "33"
      ]
     },
     "execution_count": 60,
     "metadata": {},
     "output_type": "execute_result"
    }
   ],
   "source": [
    "len(df[df.columns[i]].value_counts())"
   ]
  },
  {
   "cell_type": "code",
   "execution_count": null,
   "id": "3b00e3f0",
   "metadata": {},
   "outputs": [],
   "source": [
    "to_be_deleted.append(df.columns[i])\n",
    "print(f\"Next up to be deleted is {df.columns[i]} and now we're poised to delete a total of {len(to_be_deleted)} from our dataframe.\")"
   ]
  },
  {
   "cell_type": "markdown",
   "id": "c2b611f0",
   "metadata": {},
   "source": [
    "Hmm, this time I'll drop this one. Although I'm planning to simplify the features, I'd rather have more a spread than not."
   ]
  },
  {
   "cell_type": "code",
   "execution_count": 61,
   "id": "42c75f1f",
   "metadata": {},
   "outputs": [
    {
     "name": "stdout",
     "output_type": "stream",
     "text": [
      "Now looking at feature 33.\n"
     ]
    },
    {
     "data": {
      "text/plain": [
       "level_of_education_partner_man\n",
       "PROFESIONAL        2536\n",
       "PREPARATORIA       1010\n",
       "SECUNDARIA          692\n",
       "PRIMARIA            342\n",
       "SIN ESCOLARIDAD      25\n",
       "OTRO                 14\n",
       "Name: count, dtype: int64"
      ]
     },
     "execution_count": 61,
     "metadata": {},
     "output_type": "execute_result"
    }
   ],
   "source": [
    "i += 1\n",
    "print(f\"Now looking at feature {i}.\")\n",
    "df[df.columns[i]].value_counts()"
   ]
  },
  {
   "cell_type": "markdown",
   "id": "33602982",
   "metadata": {},
   "source": [
    "Nice to see a 'contained' feature.\n",
    "\n",
    "I might be inclined to make this hierarchical - puting 'sin' as 0 then I suppose 'otro' as 1 or .5 then the rest correspondingly. We'll see."
   ]
  },
  {
   "cell_type": "code",
   "execution_count": null,
   "id": "7d8e4866",
   "metadata": {},
   "outputs": [],
   "source": []
  },
  {
   "cell_type": "code",
   "execution_count": 62,
   "id": "2ffb8418",
   "metadata": {},
   "outputs": [
    {
     "name": "stdout",
     "output_type": "stream",
     "text": [
      "Now looking at feature 34.\n"
     ]
    },
    {
     "data": {
      "text/plain": [
       "employment_status_partner_man\n",
       "EMPLEADO                                            3863\n",
       "ESTABLECIMIENTO                                      205\n",
       "NO TRABAJA                                           203\n",
       "PATRON O EMPRESARIO                                  115\n",
       "TRABAJADOR POR SU PROPIA CUENTA O EN VIA PUBLICA      61\n",
       "OBRERO                                                47\n",
       "JORNALERO O PEON                                      40\n",
       "TRABAJA EN SU VIVIENDA                                18\n",
       "TRABAJADOR NO REMUNERADO                              12\n",
       "MIEMBRO DE COOPERATIVA                                 3\n",
       "Name: count, dtype: int64"
      ]
     },
     "execution_count": 62,
     "metadata": {},
     "output_type": "execute_result"
    }
   ],
   "source": [
    "i += 1\n",
    "print(f\"Now looking at feature {i}.\")\n",
    "df[df.columns[i]].value_counts()"
   ]
  },
  {
   "cell_type": "code",
   "execution_count": null,
   "id": "f8c1a11a",
   "metadata": {},
   "outputs": [],
   "source": []
  },
  {
   "cell_type": "code",
   "execution_count": null,
   "id": "9e714dd5",
   "metadata": {},
   "outputs": [],
   "source": []
  },
  {
   "cell_type": "code",
   "execution_count": 63,
   "id": "6c46f0ea",
   "metadata": {},
   "outputs": [
    {
     "name": "stdout",
     "output_type": "stream",
     "text": [
      "Now looking at feature 35.\n"
     ]
    },
    {
     "data": {
      "text/plain": [
       "level_of_education_partner_woman\n",
       "PROFESIONAL        2561\n",
       "PREPARATORIA        989\n",
       "SECUNDARIA          665\n",
       "PRIMARIA            293\n",
       "SIN ESCOLARIDAD      22\n",
       "OTRO                 13\n",
       "Name: count, dtype: int64"
      ]
     },
     "execution_count": 63,
     "metadata": {},
     "output_type": "execute_result"
    }
   ],
   "source": [
    "i += 1\n",
    "print(f\"Now looking at feature {i}.\")\n",
    "df[df.columns[i]].value_counts()"
   ]
  },
  {
   "cell_type": "code",
   "execution_count": null,
   "id": "16c73a37",
   "metadata": {},
   "outputs": [],
   "source": []
  },
  {
   "cell_type": "code",
   "execution_count": null,
   "id": "6c695cad",
   "metadata": {},
   "outputs": [],
   "source": []
  },
  {
   "cell_type": "code",
   "execution_count": 64,
   "id": "b272ccda",
   "metadata": {},
   "outputs": [
    {
     "name": "stdout",
     "output_type": "stream",
     "text": [
      "Now looking at feature 36.\n"
     ]
    },
    {
     "data": {
      "text/plain": [
       "employment_status_partner_woman\n",
       "EMPLEADO                                        3177\n",
       "NO TRABAJA                                      1039\n",
       "ESTABLECIMIENTO                                  121\n",
       "TRABAJADOR NO REMUNERADO                          55\n",
       "PATRON O EMPRESARIO                               54\n",
       "TRABAJADOR POR CUENTA PROPIA EN VIA PUBLICA       27\n",
       "TRABAJA EN SU VIVIENDA                            26\n",
       "OBRERO                                             4\n",
       "MIEMBRO DE COOPERATIVA                             2\n",
       "JORNALERO O PEON                                   1\n",
       "Name: count, dtype: int64"
      ]
     },
     "execution_count": 64,
     "metadata": {},
     "output_type": "execute_result"
    }
   ],
   "source": [
    "i += 1\n",
    "print(f\"Now looking at feature {i}.\")\n",
    "df[df.columns[i]].value_counts()"
   ]
  },
  {
   "cell_type": "markdown",
   "id": "d40e997b",
   "metadata": {},
   "source": [
    "Likely we've made this type of comment before, but reminder to make a feature representing employment interaction between spouses."
   ]
  },
  {
   "cell_type": "code",
   "execution_count": null,
   "id": "73dbb2e4",
   "metadata": {},
   "outputs": [],
   "source": []
  },
  {
   "cell_type": "code",
   "execution_count": 65,
   "id": "93392314",
   "metadata": {},
   "outputs": [
    {
     "name": "stdout",
     "output_type": "stream",
     "text": [
      "Now looking at feature 37.\n"
     ]
    },
    {
     "data": {
      "text/plain": [
       "marriage_duration\n",
       "1.0     325\n",
       "3.0     298\n",
       "5.0     290\n",
       "2.0     288\n",
       "4.0     283\n",
       "7.0     256\n",
       "8.0     223\n",
       "6.0     220\n",
       "10.0    207\n",
       "9.0     196\n",
       "12.0    178\n",
       "11.0    172\n",
       "13.0    169\n",
       "15.0    133\n",
       "14.0    129\n",
       "16.0    119\n",
       "17.0    108\n",
       "18.0    101\n",
       "19.0     93\n",
       "20.0     93\n",
       "21.0     85\n",
       "22.0     75\n",
       "25.0     74\n",
       "23.0     72\n",
       "30.0     57\n",
       "27.0     54\n",
       "24.0     52\n",
       "26.0     42\n",
       "28.0     35\n",
       "31.0     32\n",
       "29.0     32\n",
       "32.0     31\n",
       "33.0     26\n",
       "35.0     25\n",
       "37.0     20\n",
       "38.0     14\n",
       "34.0     12\n",
       "36.0     12\n",
       "39.0     12\n",
       "40.0      9\n",
       "42.0      8\n",
       "43.0      4\n",
       "45.0      4\n",
       "44.0      4\n",
       "41.0      4\n",
       "48.0      4\n",
       "46.0      3\n",
       "61.0      1\n",
       "47.0      1\n",
       "53.0      1\n",
       "49.0      1\n",
       "60.0      1\n",
       "Name: count, dtype: int64"
      ]
     },
     "execution_count": 65,
     "metadata": {},
     "output_type": "execute_result"
    }
   ],
   "source": [
    "i += 1\n",
    "print(f\"Now looking at feature {i}.\")\n",
    "df[df.columns[i]].value_counts()[:12]"
   ]
  },
  {
   "cell_type": "markdown",
   "id": "84358f98",
   "metadata": {},
   "source": [
    "I'm only planning on having one duration column. So, we'll do math stuff in a bit to see if we'll even bother including years. Pragmatically, might as well make it simple and do years; eh, if we decide to do regression/make our target marrige duration then estimations would likely be, def., regression-based hence getting into fractions/months so we might as well make it more accurate."
   ]
  },
  {
   "cell_type": "code",
   "execution_count": null,
   "id": "3ff9858c",
   "metadata": {},
   "outputs": [],
   "source": []
  },
  {
   "cell_type": "code",
   "execution_count": 66,
   "id": "15fefe30",
   "metadata": {},
   "outputs": [
    {
     "name": "stdout",
     "output_type": "stream",
     "text": [
      "Now looking at feature 38.\n"
     ]
    },
    {
     "data": {
      "text/plain": [
       "marriage_duration_months\n",
       "6.0     180\n",
       "11.0    162\n",
       "5.0     159\n",
       "10.0    147\n",
       "8.0     145\n",
       "4.0     142\n",
       "9.0     142\n",
       "2.0     123\n",
       "1.0     117\n",
       "7.0     114\n",
       "3.0     111\n",
       "0.0       8\n",
       "14.0      2\n",
       "93.0      1\n",
       "17.0      1\n",
       "22.0      1\n",
       "Name: count, dtype: int64"
      ]
     },
     "execution_count": 66,
     "metadata": {},
     "output_type": "execute_result"
    }
   ],
   "source": [
    "i += 1\n",
    "print(f\"Now looking at feature {i}.\")\n",
    "df[df.columns[i]].value_counts()"
   ]
  },
  {
   "cell_type": "markdown",
   "id": "14b928b9",
   "metadata": {},
   "source": [
    "Oh wait, the previous one was years?!?! Regardless, same idea applies."
   ]
  },
  {
   "cell_type": "code",
   "execution_count": 67,
   "id": "3c25b90e",
   "metadata": {},
   "outputs": [
    {
     "data": {
      "text/plain": [
       "1555"
      ]
     },
     "execution_count": 67,
     "metadata": {},
     "output_type": "execute_result"
    }
   ],
   "source": [
    "sum(df[df.columns[i]].value_counts())"
   ]
  },
  {
   "cell_type": "code",
   "execution_count": 68,
   "id": "5e816e57",
   "metadata": {},
   "outputs": [
    {
     "name": "stdout",
     "output_type": "stream",
     "text": [
      "Now looking at feature 39.\n"
     ]
    },
    {
     "data": {
      "text/plain": [
       "num_children\n",
       "1.0     1277\n",
       "2.0     1223\n",
       "3.0      379\n",
       "4.0       90\n",
       "5.0       23\n",
       "6.0       10\n",
       "7.0        6\n",
       "10.0       2\n",
       "9.0        1\n",
       "Name: count, dtype: int64"
      ]
     },
     "execution_count": 68,
     "metadata": {},
     "output_type": "execute_result"
    }
   ],
   "source": [
    "i += 1\n",
    "print(f\"Now looking at feature {i}.\")\n",
    "df[df.columns[i]].value_counts()"
   ]
  },
  {
   "cell_type": "markdown",
   "id": "64b3db2b",
   "metadata": {},
   "source": [
    "Oooh, quite looking forward to seeing how this will affect the data. A bit tempted to perhaps group 5+... We'll see. For now we'll leave as is."
   ]
  },
  {
   "cell_type": "code",
   "execution_count": null,
   "id": "b44a5e0b",
   "metadata": {},
   "outputs": [],
   "source": []
  },
  {
   "cell_type": "code",
   "execution_count": 69,
   "id": "7e375bc2",
   "metadata": {},
   "outputs": [
    {
     "name": "stdout",
     "output_type": "stream",
     "text": [
      "Now looking at feature 40.\n"
     ]
    },
    {
     "data": {
      "text/plain": [
       "custody\n",
       "MADRE    2012\n",
       "PADRE      48\n",
       "OTRO       12\n",
       "Name: count, dtype: int64"
      ]
     },
     "execution_count": 69,
     "metadata": {},
     "output_type": "execute_result"
    }
   ],
   "source": [
    "i += 1\n",
    "print(f\"Now looking at feature {i}.\")\n",
    "df[df.columns[i]].value_counts()"
   ]
  },
  {
   "cell_type": "markdown",
   "id": "96f63a24",
   "metadata": {},
   "source": [
    "If we'd go with, which I'm thinking more and more not, to do wih type of divorce as the target then likely this may be quite important. However, I don't think I am. Hence, I don't care about custody as that's an after-the-fact issue ultimately. Plus, with so many nul"
   ]
  },
  {
   "cell_type": "code",
   "execution_count": null,
   "id": "2d01a76e",
   "metadata": {},
   "outputs": [],
   "source": []
  },
  {
   "cell_type": "code",
   "execution_count": null,
   "id": "4421315e",
   "metadata": {},
   "outputs": [],
   "source": [
    "i += 1\n",
    "print(f\"Now looking at feature {i}.\")\n",
    "df[df.columns[i]].value_counts()"
   ]
  },
  {
   "cell_type": "code",
   "execution_count": null,
   "id": "fd2409c2",
   "metadata": {},
   "outputs": [],
   "source": []
  },
  {
   "cell_type": "code",
   "execution_count": null,
   "id": "1183dbf8",
   "metadata": {},
   "outputs": [],
   "source": []
  },
  {
   "cell_type": "code",
   "execution_count": null,
   "id": "376a25be",
   "metadata": {},
   "outputs": [],
   "source": []
  },
  {
   "cell_type": "code",
   "execution_count": null,
   "id": "791c3b0c",
   "metadata": {},
   "outputs": [],
   "source": []
  },
  {
   "cell_type": "code",
   "execution_count": null,
   "id": "cbed8bee",
   "metadata": {},
   "outputs": [],
   "source": []
  },
  {
   "cell_type": "code",
   "execution_count": null,
   "id": "3883d211",
   "metadata": {},
   "outputs": [],
   "source": []
  },
  {
   "cell_type": "markdown",
   "id": "7f9b872e",
   "metadata": {},
   "source": [
    "Re. check with above whatever feeatures we condensed with men to do the same with women (per 9/3/24 just doing eda essentially)."
   ]
  },
  {
   "cell_type": "markdown",
   "id": "6a6febd1",
   "metadata": {},
   "source": [
    "OHE:\n",
    "\n",
    "type_of_divorce\n",
    "\n",
    "?bucket monthly incomes?\n",
    "\n",
    "occupation\n"
   ]
  },
  {
   "cell_type": "markdown",
   "id": "788aa5eb",
   "metadata": {},
   "source": [
    "Fix: Men's employment...\n",
    "\n",
    "??? Re. education to make it hierarchical as opposed to OHE"
   ]
  },
  {
   "cell_type": "markdown",
   "id": "f1e20405",
   "metadata": {},
   "source": [
    "Add to the deletions: months, years, etc. --> after we calculate for ourselves the marriage duration (assuming we go with marriage duration as our target)."
   ]
  }
 ],
 "metadata": {
  "kernelspec": {
   "display_name": "Python 3 (ipykernel)",
   "language": "python",
   "name": "python3"
  },
  "language_info": {
   "codemirror_mode": {
    "name": "ipython",
    "version": 3
   },
   "file_extension": ".py",
   "mimetype": "text/x-python",
   "name": "python",
   "nbconvert_exporter": "python",
   "pygments_lexer": "ipython3",
   "version": "3.11.5"
  }
 },
 "nbformat": 4,
 "nbformat_minor": 5
}
